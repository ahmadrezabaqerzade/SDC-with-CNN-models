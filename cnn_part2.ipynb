{
 "cells": [
  {
   "cell_type": "code",
   "execution_count": 1,
   "metadata": {},
   "outputs": [],
   "source": [
    "import torch as tc \n",
    "from torch import nn, optim \n",
    "from torch.utils.data import DataLoader, TensorDataset, random_split \n",
    "\n",
    "from torchvision import transforms as T \n",
    "from torchvision import datasets\n",
    "\n",
    "from torchmetrics import Accuracy \n",
    "\n",
    "import pandas as pd \n",
    "import numpy as np \n",
    "import matplotlib.pyplot as plt \n",
    "from sklearn.model_selection import train_test_split\n",
    "\n",
    "from tqdm import tqdm \n",
    "import cv2"
   ]
  },
  {
   "cell_type": "code",
   "execution_count": 2,
   "metadata": {},
   "outputs": [],
   "source": [
    "y = pd.read_csv('/home/ahmadreza/AI/git/rep8/dataset/archive (1)/labels_trainval.csv')"
   ]
  },
  {
   "cell_type": "code",
   "execution_count": 3,
   "metadata": {},
   "outputs": [
    {
     "data": {
      "text/plain": [
       "(165105, 6)"
      ]
     },
     "execution_count": 3,
     "metadata": {},
     "output_type": "execute_result"
    }
   ],
   "source": [
    "y.shape"
   ]
  },
  {
   "cell_type": "code",
   "execution_count": 4,
   "metadata": {},
   "outputs": [
    {
     "data": {
      "text/plain": [
       "479"
      ]
     },
     "execution_count": 4,
     "metadata": {},
     "output_type": "execute_result"
    }
   ],
   "source": [
    "y.xmax.max()"
   ]
  },
  {
   "cell_type": "code",
   "execution_count": 5,
   "metadata": {},
   "outputs": [],
   "source": [
    "xtrain, xvalid, ytrain, yvalid = train_test_split(y.drop('class_id', axis=1), y['class_id'], train_size = 0.8, random_state = 42)"
   ]
  },
  {
   "cell_type": "code",
   "execution_count": 6,
   "metadata": {},
   "outputs": [
    {
     "data": {
      "text/plain": [
       "((132084, 5), (33021, 5), (132084,), (33021,))"
      ]
     },
     "execution_count": 6,
     "metadata": {},
     "output_type": "execute_result"
    }
   ],
   "source": [
    "xtrain.shape, xvalid.shape, ytrain.shape, yvalid.shape"
   ]
  },
  {
   "cell_type": "code",
   "execution_count": 7,
   "metadata": {},
   "outputs": [
    {
     "data": {
      "text/plain": [
       "array([[[161, 136, 120],\n",
       "        [155, 130, 114],\n",
       "        [151, 125, 108],\n",
       "        ...,\n",
       "        [ 14,  18,  19],\n",
       "        [ 32,  36,  37],\n",
       "        [ 46,  52,  51]],\n",
       "\n",
       "       [[164, 138, 121],\n",
       "        [161, 135, 118],\n",
       "        [158, 132, 115],\n",
       "        ...,\n",
       "        [ 15,  18,  22],\n",
       "        [ 19,  24,  25],\n",
       "        [ 16,  22,  21]],\n",
       "\n",
       "       [[164, 137, 117],\n",
       "        [164, 137, 117],\n",
       "        [164, 137, 117],\n",
       "        ...,\n",
       "        [ 19,  22,  26],\n",
       "        [ 17,  22,  23],\n",
       "        [ 10,  15,  16]],\n",
       "\n",
       "       ...,\n",
       "\n",
       "       [[ 15,  15,  15],\n",
       "        [ 15,  15,  15],\n",
       "        [ 16,  16,  16],\n",
       "        ...,\n",
       "        [ 16,  18,  19],\n",
       "        [ 16,  18,  19],\n",
       "        [ 17,  19,  20]],\n",
       "\n",
       "       [[ 15,  15,  15],\n",
       "        [ 15,  15,  15],\n",
       "        [ 15,  15,  15],\n",
       "        ...,\n",
       "        [ 16,  18,  19],\n",
       "        [ 16,  18,  19],\n",
       "        [ 17,  19,  20]],\n",
       "\n",
       "       [[ 15,  15,  15],\n",
       "        [ 15,  15,  15],\n",
       "        [ 15,  15,  15],\n",
       "        ...,\n",
       "        [ 16,  18,  19],\n",
       "        [ 16,  18,  19],\n",
       "        [ 17,  19,  20]]], dtype=uint8)"
      ]
     },
     "execution_count": 7,
     "metadata": {},
     "output_type": "execute_result"
    }
   ],
   "source": [
    "cv2.imread(f'/home/ahmadreza/AI/git/rep8/dataset/archive (1)/images/{y.frame[0]}')"
   ]
  },
  {
   "cell_type": "code",
   "execution_count": 8,
   "metadata": {},
   "outputs": [],
   "source": [
    "class CNNModel(nn.Module):\n",
    "\n",
    "    def __init__(self, num_filters, kernel_size, num_out_reg, num_classes):\n",
    "        super().__init__()\n",
    "\n",
    "        self.conv1 = nn.LazyConv2d(num_filters[0], kernel_size[0], stride = 1, padding = 1, bias = True)\n",
    "        self.bn1 = nn.BatchNorm2d(num_filters[0])\n",
    "\n",
    "        self.conv2 = nn.LazyConv2d(num_filters[1], kernel_size[1], stride = 1, padding = 1, bias = True)\n",
    "        self.bn2 = nn.BatchNorm2d(num_filters[1])\n",
    "\n",
    "        self.conv3 = nn.LazyConv2d(num_filters[1], kernel_size[1], stride = 1, padding = 1, bias = True)\n",
    "        self.bn3 = nn.BatchNorm2d(num_filters[1])\n",
    "\n",
    "        self.mpool = nn.MaxPool2d(2, 2)\n",
    "        self.apool = nn.AdaptiveAvgPool2d(output_size=(1, 1))\n",
    "\n",
    "        self.fc = nn.LazyLinear(num_classes)\n",
    "        self.fcv = nn.LazyLinear(num_out_reg)\n",
    "        self.seq = nn.Sequential(nn.LazyLinear(4), nn.LeakyReLU(), nn.LazyLinear(4), nn.LazyLinear(4), nn.ReLU(), nn.LazyLinear(num_out_reg))\n",
    "\n",
    "    def forward(self, cnn_data):\n",
    "\n",
    "        y = self.bn1(self.conv1(cnn_data)).relu()\n",
    "        y = self.mpool(y)\n",
    "        y = self.bn2(self.conv2(y)).relu()\n",
    "\n",
    "        y = self.apool(y)\n",
    "\n",
    "        y = y.flatten(1)\n",
    "\n",
    "        y_class = self.fc(y)\n",
    "\n",
    "        y = self.bn3(self.conv3(cnn_data))\n",
    "\n",
    "        y = y.flatten(1)\n",
    "\n",
    "        y_reg = self.seq(y)\n",
    "\n",
    "        return y_reg, y_class"
   ]
  },
  {
   "cell_type": "code",
   "execution_count": 9,
   "metadata": {},
   "outputs": [],
   "source": [
    "device = 'cpu' if tc.cuda.is_available() else 'cpu'"
   ]
  },
  {
   "cell_type": "code",
   "execution_count": 10,
   "metadata": {},
   "outputs": [],
   "source": [
    "def num_choose(i, data_loader):\n",
    "    xn, yn = 0, 0\n",
    "    o = 0\n",
    "    for x, y in data_loader:\n",
    "        if o==i:\n",
    "            xn, yn = x, y\n",
    "            \n",
    "        o += 1\n",
    "    \n",
    "    return xn, yn"
   ]
  },
  {
   "cell_type": "code",
   "execution_count": 11,
   "metadata": {},
   "outputs": [],
   "source": [
    "class AverageMeter(object):\n",
    "    \"\"\"Computes and stores the average and current value\"\"\"\n",
    "    def __init__(self):\n",
    "        self.reset()\n",
    "\n",
    "    def reset(self):\n",
    "        self.val = 0\n",
    "        self.avg = 0\n",
    "        self.sum = 0\n",
    "        self.count = 0\n",
    "\n",
    "    def update(self, val, n=1):\n",
    "        self.val = val\n",
    "        self.sum += val * n\n",
    "        self.count += n\n",
    "        self.avg = self.sum / self.count"
   ]
  },
  {
   "cell_type": "code",
   "execution_count": 12,
   "metadata": {},
   "outputs": [],
   "source": [
    "def train_one_epoch(model, loss_func_reg, loss_func_class, optimizer, epoch):\n",
    "    model.train()\n",
    "\n",
    "    train_loss_reg = AverageMeter()\n",
    "    train_loss_class = AverageMeter()\n",
    "    train_acc_class = Accuracy(task = 'multiclass', num_classes=5).to(device)\n",
    "\n",
    "    print(f'epoch={epoch}')\n",
    "    print()\n",
    "    print('TRAIN::::')\n",
    "\n",
    "    for i in range(0, 5):\n",
    "\n",
    "        x_part = xtrain.iloc[i * 100: i * 100 + 100]\n",
    "        y_part = ytrain.iloc[i * 100: i * 100 + 100] - 1\n",
    "\n",
    "        for l in range(0, x_part.shape[0]):\n",
    "            pd.options.mode.chained_assignment = None\n",
    "            x_part.frame.iloc[l] = tc.FloatTensor(cv2.imread(f'/home/ahmadreza/AI/git/rep8/dataset/archive (1)/images/{x_part.frame.iloc[l]}')).permute(2, 0, 1)/255\n",
    "        \n",
    "        cnn_train = x_part.frame.iloc[0].unsqueeze(0)\n",
    "        \n",
    "        for l in x_part.frame.iloc[1:]:\n",
    "            x = l.unsqueeze(0)\n",
    "            cnn_train = tc.cat([cnn_train, x])\n",
    "        \n",
    "        y_part = tc.LongTensor(np.array(y_part))\n",
    "        x_part = tc.FloatTensor(np.array(x_part.drop(['frame'], axis = 1)))/479  \n",
    "\n",
    "        cnn_dataset = TensorDataset(cnn_train, y_part)\n",
    "        reg_dataset = TensorDataset(x_part, y_part)\n",
    "\n",
    "        cnn_train_loader = DataLoader(cnn_dataset, batch_size=32, shuffle = False)\n",
    "        reg_train_loader = DataLoader(reg_dataset, batch_size=32, shuffle = False)\n",
    "\n",
    "\n",
    "        with tqdm(cnn_train_loader, unit = 'batch') as tepoch:\n",
    "            \n",
    "            j = 0\n",
    "\n",
    "            for xc, yc in tepoch:\n",
    "                if epoch is not None:\n",
    "                    tepoch.set_description(f'iteration={i}')\n",
    "                xn, yn = num_choose(j, reg_train_loader)\n",
    "                j +=1\n",
    "\n",
    "                xn = xn.to(device)\n",
    "                xc = xc.to(device)\n",
    "\n",
    "                yn = yn.to(device)\n",
    "\n",
    "                y_reg, y_class = model(xc)\n",
    "                \n",
    "                loss_reg = loss_func_reg(y_reg, xn)\n",
    "                loss_class = loss_func_class(y_class, yn)\n",
    "\n",
    "                loss_reg.backward(retain_graph=True)\n",
    "                loss_class.backward()\n",
    "\n",
    "                optimizer.step()\n",
    "                optimizer.zero_grad()\n",
    "\n",
    "                train_loss_reg.update(loss_reg.item())\n",
    "                train_loss_class.update(loss_class.item())\n",
    "\n",
    "                train_acc_class(y_class, yn)\n",
    "\n",
    "                reg_loss = train_loss_reg.avg\n",
    "                class_loss = train_loss_class.avg\n",
    "\n",
    "                tepoch.set_postfix(loss_reg = reg_loss,\n",
    "                                    loss_class = class_loss,\n",
    "                                    loss = (reg_loss + class_loss))\n",
    "\n",
    "    return model, train_loss_reg.avg, train_loss_class.avg"
   ]
  },
  {
   "cell_type": "code",
   "execution_count": 13,
   "metadata": {},
   "outputs": [],
   "source": [
    "def validation(model, loss_func_reg, loss_func_class, epoch):\n",
    "    model.eval()\n",
    "\n",
    "    valid_loss_reg = AverageMeter()\n",
    "    valid_loss_class = AverageMeter()\n",
    "    valid_acc_class = Accuracy(task = 'multiclass', num_classes=5).to(device)\n",
    "\n",
    "    print('VALIDATION::::')\n",
    "\n",
    "    with tqdm(np.arange(0, 5), unit='t') as s:\n",
    "\n",
    "        for i in s:\n",
    "            s.set_description(f'iteration={i}')\n",
    "\n",
    "            x_part = xvalid.iloc[i * 100: i * 100 + 100]\n",
    "            y_part = yvalid.iloc[i * 100: i * 100 + 100] - 1\n",
    "\n",
    "            for l in range(0, x_part.shape[0]):\n",
    "                pd.options.mode.chained_assignment = None\n",
    "                x_part.frame.iloc[l] = tc.FloatTensor(cv2.imread(f'/home/ahmadreza/AI/git/rep8/dataset/archive (1)/images/{x_part.frame.iloc[l]}')).permute(2, 0, 1)/255\n",
    "        \n",
    "            cnn_valid = x_part.frame.iloc[0].unsqueeze(0)\n",
    "            for l in x_part.frame.iloc[1:]:\n",
    "                x = l.unsqueeze(0)\n",
    "                cnn_valid = tc.cat([cnn_valid, x])\n",
    "\n",
    "            y_part = tc.LongTensor(np.array(y_part))\n",
    "            x_part = tc.FloatTensor(np.array(x_part.drop(['frame'], axis = 1)))/479\n",
    "\n",
    "            cnn_dataset = TensorDataset(cnn_valid, y_part)\n",
    "            reg_dataset = TensorDataset(x_part, y_part)\n",
    "\n",
    "            cnn_valid_loader = DataLoader(cnn_dataset, batch_size=32, shuffle = False)\n",
    "            reg_valid_loader = DataLoader(reg_dataset, batch_size=32, shuffle = False)\n",
    "\n",
    "            j = 0\n",
    "\n",
    "            for xc, yc in cnn_valid_loader:\n",
    "                \n",
    "                xn, yn = num_choose(j, reg_valid_loader)\n",
    "                j += 1\n",
    "\n",
    "                xn = xn.to(device)\n",
    "                xc = xc.to(device)\n",
    "\n",
    "                yn = yn.to(device)\n",
    "\n",
    "                y_reg, y_class = model(xc)\n",
    "\n",
    "                loss_reg = loss_func_reg(y_reg, xn)\n",
    "                loss_class = loss_func_class(y_class, yn)\n",
    "\n",
    "                valid_loss_reg.update(loss_reg.item())\n",
    "                valid_loss_class.update(loss_class.item())\n",
    "\n",
    "                valid_acc_class(y_class, yn)\n",
    "\n",
    "                reg_loss = valid_loss_reg.avg\n",
    "                class_loss = valid_loss_class.avg\n",
    "                total_loss = reg_loss + class_loss\n",
    "\n",
    "\n",
    "\n",
    "    print(f'============regression loss={reg_loss}, classification loss={class_loss}, Loss(total)={total_loss}===============')\n",
    "    print()\n",
    "\n",
    "\n",
    "    return valid_loss_reg.avg, valid_loss_class.avg"
   ]
  },
  {
   "cell_type": "code",
   "execution_count": 127,
   "metadata": {},
   "outputs": [
    {
     "name": "stderr",
     "output_type": "stream",
     "text": [
      "/home/ahmadreza/anaconda3/lib/python3.9/site-packages/torch/nn/modules/lazy.py:180: UserWarning: Lazy modules are a new feature under heavy development so changes to the API or functionality can happen at any moment.\n",
      "  warnings.warn('Lazy modules are a new feature under heavy development '\n"
     ]
    }
   ],
   "source": [
    "model = CNNModel([8, 8], [3, 3], 4, 5).to(device)"
   ]
  },
  {
   "cell_type": "code",
   "execution_count": 47,
   "metadata": {},
   "outputs": [],
   "source": [
    "optimizer = optim.Adam(model.parameters(), lr = 0.001, betas = [0.9, 0.99])\n",
    "loss_func_reg = nn.HuberLoss()\n",
    "loss_func_class = nn.CrossEntropyLoss()"
   ]
  },
  {
   "cell_type": "code",
   "execution_count": 48,
   "metadata": {},
   "outputs": [
    {
     "name": "stdout",
     "output_type": "stream",
     "text": [
      "epoch=1\n"
     ]
    },
    {
     "name": "stderr",
     "output_type": "stream",
     "text": [
      "iteration=0: 100%|██████████| 4/4 [00:02<00:00,  1.93batch/s, loss=6.1, loss_class=1.77, loss_reg=4.34]   \n",
      "iteration=1: 100%|██████████| 4/4 [00:02<00:00,  1.62batch/s, loss=4.07, loss_class=1.76, loss_reg=2.31]\n",
      "iteration=2: 100%|██████████| 4/4 [00:02<00:00,  1.82batch/s, loss=3.38, loss_class=1.74, loss_reg=1.64]\n",
      "iteration=3: 100%|██████████| 4/4 [00:02<00:00,  1.78batch/s, loss=3.02, loss_class=1.72, loss_reg=1.29]\n",
      "iteration=4: 100%|██████████| 4/4 [00:02<00:00,  1.81batch/s, loss=2.78, loss_class=1.71, loss_reg=1.08]\n",
      "iteration=5: 100%|██████████| 4/4 [00:02<00:00,  1.72batch/s, loss=2.61, loss_class=1.69, loss_reg=0.919]\n",
      "iteration=6: 100%|██████████| 4/4 [00:02<00:00,  1.43batch/s, loss=2.5, loss_class=1.68, loss_reg=0.819] \n",
      "iteration=7: 100%|██████████| 4/4 [00:02<00:00,  1.55batch/s, loss=2.4, loss_class=1.67, loss_reg=0.733] \n",
      "iteration=8: 100%|██████████| 4/4 [00:02<00:00,  1.61batch/s, loss=2.33, loss_class=1.66, loss_reg=0.671]\n",
      "iteration=9: 100%|██████████| 4/4 [00:02<00:00,  1.74batch/s, loss=2.28, loss_class=1.65, loss_reg=0.628]\n"
     ]
    }
   ],
   "source": [
    "_, _, _ = train_one_epoch(model, loss_func_reg, loss_func_class, optimizer, 1)"
   ]
  },
  {
   "cell_type": "code",
   "execution_count": 26,
   "metadata": {},
   "outputs": [
    {
     "name": "stderr",
     "output_type": "stream",
     "text": [
      "/home/ahmadreza/anaconda3/lib/python3.9/site-packages/torch/nn/modules/lazy.py:180: UserWarning: Lazy modules are a new feature under heavy development so changes to the API or functionality can happen at any moment.\n",
      "  warnings.warn('Lazy modules are a new feature under heavy development '\n"
     ]
    }
   ],
   "source": [
    "model = CNNModel([8, 8], [3, 3], 4, 5).to(device)"
   ]
  },
  {
   "cell_type": "code",
   "execution_count": 27,
   "metadata": {},
   "outputs": [],
   "source": [
    "optimizer = optim.Adam(model.parameters(), lr = 0.005, betas=[0.9, 0.99], weight_decay=1e-4)\n",
    "loss_func_reg = nn.HuberLoss()\n",
    "loss_func_class = nn.CrossEntropyLoss()"
   ]
  },
  {
   "cell_type": "code",
   "execution_count": 28,
   "metadata": {},
   "outputs": [],
   "source": [
    "N=10\n",
    "\n",
    "loss_train_hist_reg,loss_valid_hist_reg=[],[]\n",
    "loss_train_hist_class,loss_valid_hist_class=[],[]\n",
    "\n",
    "best_loss = tc.inf\n",
    "best_model = [0]"
   ]
  },
  {
   "cell_type": "code",
   "execution_count": 29,
   "metadata": {},
   "outputs": [
    {
     "name": "stdout",
     "output_type": "stream",
     "text": [
      "epoch=0\n",
      "\n",
      "TRAIN::::\n"
     ]
    },
    {
     "name": "stderr",
     "output_type": "stream",
     "text": [
      "iteration=0: 100%|██████████| 4/4 [00:01<00:00,  2.17batch/s, loss=14.3, loss_class=1.9, loss_reg=12.4]  \n",
      "iteration=1: 100%|██████████| 4/4 [00:02<00:00,  1.93batch/s, loss=8.91, loss_class=1.83, loss_reg=7.08]\n",
      "iteration=2: 100%|██████████| 4/4 [00:01<00:00,  2.02batch/s, loss=6.64, loss_class=1.78, loss_reg=4.85]\n",
      "iteration=3: 100%|██████████| 4/4 [00:01<00:00,  2.12batch/s, loss=5.48, loss_class=1.73, loss_reg=3.74]\n",
      "iteration=4: 100%|██████████| 4/4 [00:01<00:00,  2.34batch/s, loss=4.73, loss_class=1.69, loss_reg=3.04]\n"
     ]
    },
    {
     "name": "stdout",
     "output_type": "stream",
     "text": [
      "VALIDATION::::\n"
     ]
    },
    {
     "name": "stderr",
     "output_type": "stream",
     "text": [
      "iteration=4: 100%|██████████| 5/5 [00:09<00:00,  1.86s/t]\n"
     ]
    },
    {
     "name": "stdout",
     "output_type": "stream",
     "text": [
      "============regression loss=0.5939095597714186, classification loss=1.5135067641735076, Loss(total)=2.107416323944926===============\n",
      "\n",
      "model saved!\n",
      "\n",
      "epoch=1\n",
      "\n",
      "TRAIN::::\n"
     ]
    },
    {
     "name": "stderr",
     "output_type": "stream",
     "text": [
      "iteration=0: 100%|██████████| 4/4 [00:01<00:00,  2.37batch/s, loss=1.64, loss_class=1.47, loss_reg=0.166]\n",
      "iteration=1: 100%|██████████| 4/4 [00:01<00:00,  2.57batch/s, loss=2.02, loss_class=1.43, loss_reg=0.59] \n",
      "iteration=2: 100%|██████████| 4/4 [00:01<00:00,  2.37batch/s, loss=1.85, loss_class=1.39, loss_reg=0.462]\n",
      "iteration=3: 100%|██████████| 4/4 [00:01<00:00,  2.31batch/s, loss=1.82, loss_class=1.37, loss_reg=0.451]\n",
      "iteration=4: 100%|██████████| 4/4 [00:01<00:00,  2.35batch/s, loss=1.79, loss_class=1.34, loss_reg=0.449]\n"
     ]
    },
    {
     "name": "stdout",
     "output_type": "stream",
     "text": [
      "VALIDATION::::\n"
     ]
    },
    {
     "name": "stderr",
     "output_type": "stream",
     "text": [
      "iteration=4: 100%|██████████| 5/5 [00:10<00:00,  2.02s/t]\n"
     ]
    },
    {
     "name": "stdout",
     "output_type": "stream",
     "text": [
      "============regression loss=0.10483975410461426, classification loss=1.2228016555309296, Loss(total)=1.3276414096355438===============\n",
      "\n",
      "model saved!\n",
      "\n",
      "epoch=2\n",
      "\n",
      "TRAIN::::\n"
     ]
    },
    {
     "name": "stderr",
     "output_type": "stream",
     "text": [
      "iteration=0: 100%|██████████| 4/4 [00:02<00:00,  1.96batch/s, loss=1.29, loss_class=1.14, loss_reg=0.155] \n",
      "iteration=1: 100%|██████████| 4/4 [00:02<00:00,  1.82batch/s, loss=1.24, loss_class=1.13, loss_reg=0.116]\n",
      "iteration=2: 100%|██████████| 4/4 [00:02<00:00,  1.65batch/s, loss=1.19, loss_class=1.07, loss_reg=0.12] \n",
      "iteration=3: 100%|██████████| 4/4 [00:01<00:00,  2.10batch/s, loss=1.26, loss_class=1.09, loss_reg=0.17] \n",
      "iteration=4: 100%|██████████| 4/4 [00:02<00:00,  1.98batch/s, loss=1.23, loss_class=1.07, loss_reg=0.156]\n"
     ]
    },
    {
     "name": "stdout",
     "output_type": "stream",
     "text": [
      "VALIDATION::::\n"
     ]
    },
    {
     "name": "stderr",
     "output_type": "stream",
     "text": [
      "iteration=4: 100%|██████████| 5/5 [00:10<00:00,  2.09s/t]\n"
     ]
    },
    {
     "name": "stdout",
     "output_type": "stream",
     "text": [
      "============regression loss=0.09490194953978062, classification loss=0.9569273561239242, Loss(total)=1.051829305663705===============\n",
      "\n",
      "model saved!\n",
      "\n",
      "epoch=3\n",
      "\n",
      "TRAIN::::\n"
     ]
    },
    {
     "name": "stderr",
     "output_type": "stream",
     "text": [
      "iteration=0: 100%|██████████| 4/4 [00:02<00:00,  1.80batch/s, loss=1.01, loss_class=0.927, loss_reg=0.0851] \n",
      "iteration=1: 100%|██████████| 4/4 [00:02<00:00,  1.50batch/s, loss=1.02, loss_class=0.945, loss_reg=0.0698] \n",
      "iteration=2: 100%|██████████| 4/4 [00:02<00:00,  1.46batch/s, loss=0.962, loss_class=0.896, loss_reg=0.0666]\n",
      "iteration=3: 100%|██████████| 4/4 [00:02<00:00,  1.41batch/s, loss=1.03, loss_class=0.944, loss_reg=0.0894] \n",
      "iteration=4: 100%|██████████| 4/4 [00:02<00:00,  1.70batch/s, loss=1.03, loss_class=0.942, loss_reg=0.0829]\n"
     ]
    },
    {
     "name": "stdout",
     "output_type": "stream",
     "text": [
      "VALIDATION::::\n"
     ]
    },
    {
     "name": "stderr",
     "output_type": "stream",
     "text": [
      "iteration=4: 100%|██████████| 5/5 [00:11<00:00,  2.22s/t]\n"
     ]
    },
    {
     "name": "stdout",
     "output_type": "stream",
     "text": [
      "============regression loss=0.06008885484188795, classification loss=0.9148285821080208, Loss(total)=0.9749174369499087===============\n",
      "\n",
      "model saved!\n",
      "\n",
      "epoch=4\n",
      "\n",
      "TRAIN::::\n"
     ]
    },
    {
     "name": "stderr",
     "output_type": "stream",
     "text": [
      "iteration=0: 100%|██████████| 4/4 [00:02<00:00,  1.84batch/s, loss=0.917, loss_class=0.858, loss_reg=0.059] \n",
      "iteration=1: 100%|██████████| 4/4 [00:02<00:00,  1.78batch/s, loss=0.942, loss_class=0.893, loss_reg=0.0492]\n",
      "iteration=2: 100%|██████████| 4/4 [00:02<00:00,  1.76batch/s, loss=0.891, loss_class=0.846, loss_reg=0.0452]\n",
      "iteration=3: 100%|██████████| 4/4 [00:02<00:00,  1.72batch/s, loss=0.945, loss_class=0.901, loss_reg=0.0436]\n",
      "iteration=4: 100%|██████████| 4/4 [00:02<00:00,  1.75batch/s, loss=0.949, loss_class=0.905, loss_reg=0.0441]\n"
     ]
    },
    {
     "name": "stdout",
     "output_type": "stream",
     "text": [
      "VALIDATION::::\n"
     ]
    },
    {
     "name": "stderr",
     "output_type": "stream",
     "text": [
      "iteration=4: 100%|██████████| 5/5 [00:10<00:00,  2.17s/t]\n"
     ]
    },
    {
     "name": "stdout",
     "output_type": "stream",
     "text": [
      "============regression loss=0.039173968695104124, classification loss=0.9016327947378159, Loss(total)=0.94080676343292===============\n",
      "\n",
      "model saved!\n",
      "\n",
      "epoch=5\n",
      "\n",
      "TRAIN::::\n"
     ]
    },
    {
     "name": "stderr",
     "output_type": "stream",
     "text": [
      "iteration=0: 100%|██████████| 4/4 [00:02<00:00,  1.42batch/s, loss=0.886, loss_class=0.843, loss_reg=0.0425]\n",
      "iteration=1: 100%|██████████| 4/4 [00:02<00:00,  1.60batch/s, loss=0.913, loss_class=0.876, loss_reg=0.0361]\n",
      "iteration=2: 100%|██████████| 4/4 [00:03<00:00,  1.26batch/s, loss=0.867, loss_class=0.828, loss_reg=0.038] \n",
      "iteration=3: 100%|██████████| 4/4 [00:03<00:00,  1.29batch/s, loss=1.06, loss_class=0.883, loss_reg=0.174]  \n",
      "iteration=4: 100%|██████████| 4/4 [00:03<00:00,  1.30batch/s, loss=1.05, loss_class=0.887, loss_reg=0.162]\n"
     ]
    },
    {
     "name": "stdout",
     "output_type": "stream",
     "text": [
      "VALIDATION::::\n"
     ]
    },
    {
     "name": "stderr",
     "output_type": "stream",
     "text": [
      "iteration=4: 100%|██████████| 5/5 [00:15<00:00,  3.03s/t]\n"
     ]
    },
    {
     "name": "stdout",
     "output_type": "stream",
     "text": [
      "============regression loss=0.03342732824385166, classification loss=0.8837169021368027, Loss(total)=0.9171442303806543===============\n",
      "\n",
      "model saved!\n",
      "\n",
      "epoch=6\n",
      "\n",
      "TRAIN::::\n"
     ]
    },
    {
     "name": "stderr",
     "output_type": "stream",
     "text": [
      "iteration=0: 100%|██████████| 4/4 [00:02<00:00,  1.43batch/s, loss=0.859, loss_class=0.83, loss_reg=0.0283] \n",
      "iteration=1: 100%|██████████| 4/4 [00:02<00:00,  1.78batch/s, loss=0.893, loss_class=0.867, loss_reg=0.026] \n",
      "iteration=2: 100%|██████████| 4/4 [00:02<00:00,  1.56batch/s, loss=0.845, loss_class=0.82, loss_reg=0.0244] \n",
      "iteration=3: 100%|██████████| 4/4 [00:02<00:00,  1.60batch/s, loss=0.897, loss_class=0.873, loss_reg=0.0242]\n",
      "iteration=4: 100%|██████████| 4/4 [00:02<00:00,  1.36batch/s, loss=0.904, loss_class=0.878, loss_reg=0.0259]\n"
     ]
    },
    {
     "name": "stdout",
     "output_type": "stream",
     "text": [
      "VALIDATION::::\n"
     ]
    },
    {
     "name": "stderr",
     "output_type": "stream",
     "text": [
      "iteration=4: 100%|██████████| 5/5 [00:16<00:00,  3.25s/t]\n"
     ]
    },
    {
     "name": "stdout",
     "output_type": "stream",
     "text": [
      "============regression loss=0.025017741415649653, classification loss=0.8712145373225212, Loss(total)=0.8962322787381708===============\n",
      "\n",
      "model saved!\n",
      "\n",
      "epoch=7\n",
      "\n",
      "TRAIN::::\n"
     ]
    },
    {
     "name": "stderr",
     "output_type": "stream",
     "text": [
      "iteration=0: 100%|██████████| 4/4 [00:02<00:00,  1.44batch/s, loss=0.839, loss_class=0.816, loss_reg=0.0235]\n",
      "iteration=1: 100%|██████████| 4/4 [00:02<00:00,  1.52batch/s, loss=0.88, loss_class=0.858, loss_reg=0.022]  \n",
      "iteration=2: 100%|██████████| 4/4 [00:02<00:00,  1.43batch/s, loss=0.829, loss_class=0.809, loss_reg=0.0206]\n",
      "iteration=3: 100%|██████████| 4/4 [00:02<00:00,  1.47batch/s, loss=0.888, loss_class=0.868, loss_reg=0.0204]\n",
      "iteration=4: 100%|██████████| 4/4 [00:02<00:00,  1.49batch/s, loss=0.894, loss_class=0.872, loss_reg=0.022] \n"
     ]
    },
    {
     "name": "stdout",
     "output_type": "stream",
     "text": [
      "VALIDATION::::\n"
     ]
    },
    {
     "name": "stderr",
     "output_type": "stream",
     "text": [
      "iteration=4: 100%|██████████| 5/5 [00:14<00:00,  2.85s/t]\n"
     ]
    },
    {
     "name": "stdout",
     "output_type": "stream",
     "text": [
      "============regression loss=0.02077015694230795, classification loss=0.893988835811615, Loss(total)=0.914758992753923===============\n",
      "\n",
      "epoch=8\n",
      "\n",
      "TRAIN::::\n"
     ]
    },
    {
     "name": "stderr",
     "output_type": "stream",
     "text": [
      "iteration=0: 100%|██████████| 4/4 [00:02<00:00,  1.41batch/s, loss=0.833, loss_class=0.812, loss_reg=0.0208]\n",
      "iteration=1: 100%|██████████| 4/4 [00:02<00:00,  1.55batch/s, loss=0.872, loss_class=0.852, loss_reg=0.0197]\n",
      "iteration=2: 100%|██████████| 4/4 [00:02<00:00,  1.57batch/s, loss=0.824, loss_class=0.805, loss_reg=0.0184]\n",
      "iteration=3: 100%|██████████| 4/4 [00:03<00:00,  1.28batch/s, loss=0.875, loss_class=0.857, loss_reg=0.0183]\n",
      "iteration=4: 100%|██████████| 4/4 [00:02<00:00,  1.37batch/s, loss=0.882, loss_class=0.862, loss_reg=0.0196]\n"
     ]
    },
    {
     "name": "stdout",
     "output_type": "stream",
     "text": [
      "VALIDATION::::\n"
     ]
    },
    {
     "name": "stderr",
     "output_type": "stream",
     "text": [
      "iteration=4: 100%|██████████| 5/5 [00:13<00:00,  2.63s/t]\n"
     ]
    },
    {
     "name": "stdout",
     "output_type": "stream",
     "text": [
      "============regression loss=0.01880900710821152, classification loss=0.8498630747199059, Loss(total)=0.8686720818281174===============\n",
      "\n",
      "model saved!\n",
      "\n",
      "epoch=9\n",
      "\n",
      "TRAIN::::\n"
     ]
    },
    {
     "name": "stderr",
     "output_type": "stream",
     "text": [
      "iteration=0: 100%|██████████| 4/4 [00:02<00:00,  1.68batch/s, loss=0.826, loss_class=0.807, loss_reg=0.0193]\n",
      "iteration=1: 100%|██████████| 4/4 [00:02<00:00,  1.44batch/s, loss=0.868, loss_class=0.85, loss_reg=0.0185] \n",
      "iteration=2: 100%|██████████| 4/4 [00:02<00:00,  1.85batch/s, loss=0.817, loss_class=0.799, loss_reg=0.0173]\n",
      "iteration=3: 100%|██████████| 4/4 [00:02<00:00,  1.64batch/s, loss=0.87, loss_class=0.852, loss_reg=0.0172] \n",
      "iteration=4: 100%|██████████| 4/4 [00:02<00:00,  1.74batch/s, loss=0.875, loss_class=0.857, loss_reg=0.0181]\n"
     ]
    },
    {
     "name": "stdout",
     "output_type": "stream",
     "text": [
      "VALIDATION::::\n"
     ]
    },
    {
     "name": "stderr",
     "output_type": "stream",
     "text": [
      "iteration=4: 100%|██████████| 5/5 [00:12<00:00,  2.46s/t]"
     ]
    },
    {
     "name": "stdout",
     "output_type": "stream",
     "text": [
      "============regression loss=0.016835685004480183, classification loss=0.8450925871729851, Loss(total)=0.8619282721774653===============\n",
      "\n",
      "model saved!\n",
      "\n"
     ]
    },
    {
     "name": "stderr",
     "output_type": "stream",
     "text": [
      "\n"
     ]
    }
   ],
   "source": [
    "for epoch in range(N):\n",
    "  y = pd.read_csv('/home/ahmadreza/AI/git/rep8/dataset/archive (1)/labels_trainval.csv')\n",
    "  xtrain, xvalid, ytrain, yvalid = train_test_split(y.drop('class_id', axis=1), y['class_id'], train_size = 0.8, random_state = 42)\n",
    "\n",
    "  model, train_loss_reg, train_loss_class = train_one_epoch(model, loss_func_reg, loss_func_class, optimizer, epoch)\n",
    "\n",
    "  y = pd.read_csv('/home/ahmadreza/AI/git/rep8/dataset/archive (1)/labels_trainval.csv')\n",
    "  xtrain, xvalid, ytrain, yvalid = train_test_split(y.drop('class_id', axis=1), y['class_id'], train_size = 0.8, random_state = 42)\n",
    "\n",
    "  valid_loss_reg, valid_loss_class = validation(model, loss_func_reg, loss_func_class, epoch)\n",
    "\n",
    "  loss_train_hist_reg.append(train_loss_reg)\n",
    "  loss_train_hist_class.append(train_loss_class)\n",
    "\n",
    "  loss_valid_hist_reg.append(valid_loss_reg)\n",
    "  loss_valid_hist_class.append(valid_loss_class)\n",
    "\n",
    "  valid_loss_total = (valid_loss_reg + valid_loss_class)\n",
    "\n",
    "  if valid_loss_total<best_loss:\n",
    "    best_model[0] = model \n",
    "    best_loss = valid_loss_total\n",
    "    print('model saved!')\n",
    "    print()"
   ]
  },
  {
   "cell_type": "code",
   "execution_count": 30,
   "metadata": {},
   "outputs": [
    {
     "data": {
      "image/png": "[encoded data removed]",
      "text/plain": [
       "<Figure size 432x288 with 1 Axes>"
      ]
     },
     "metadata": {
      "needs_background": "light"
     },
     "output_type": "display_data"
    }
   ],
   "source": [
    "plt.plot(range(N), loss_train_hist_reg, label = 'train loss regression')\n",
    "plt.plot(range(N), loss_train_hist_class, label = 'train loss classification')\n",
    "plt.xlabel('Epoch')\n",
    "plt.ylabel('Loss')\n",
    "plt.legend()\n",
    "#plt.xticks(np.arange(1, N))\n",
    "plt.grid()\n",
    "plt.show()"
   ]
  },
  {
   "cell_type": "code",
   "execution_count": 31,
   "metadata": {},
   "outputs": [
    {
     "data": {
      "image/png": "[encoded data removed]",
      "text/plain": [
       "<Figure size 432x288 with 1 Axes>"
      ]
     },
     "metadata": {
      "needs_background": "light"
     },
     "output_type": "display_data"
    }
   ],
   "source": [
    "plt.plot(range(N), loss_valid_hist_reg, label = 'valid loss regression')\n",
    "plt.plot(range(N), loss_valid_hist_class, label = 'valid loss classification')\n",
    "plt.xlabel('Epoch')\n",
    "plt.ylabel('Loss')\n",
    "plt.legend()\n",
    "#plt.xticks(np.arange(1, N))\n",
    "plt.grid()\n",
    "plt.show()"
   ]
  },
  {
   "cell_type": "code",
   "execution_count": null,
   "metadata": {},
   "outputs": [],
   "source": []
  }
 ],
 "metadata": {
  "kernelspec": {
   "display_name": "base",
   "language": "python",
   "name": "python3"
  },
  "language_info": {
   "codemirror_mode": {
    "name": "ipython",
    "version": 3
   },
   "file_extension": ".py",
   "mimetype": "text/x-python",
   "name": "python",
   "nbconvert_exporter": "python",
   "pygments_lexer": "ipython3",
   "version": "3.9.12"
  },
  "orig_nbformat": 4,
  "vscode": {
   "interpreter": {
    "hash": "d478f2b155118de22769e18c606f2fc6fbef083591a0239b8d3da966eb9f00a4"
   }
  }
 },
 "nbformat": 4,
 "nbformat_minor": 2
}
