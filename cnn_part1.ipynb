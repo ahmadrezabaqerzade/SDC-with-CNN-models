{
 "cells": [
  {
   "cell_type": "code",
   "execution_count": 250,
   "metadata": {},
   "outputs": [],
   "source": [
    "import torch as tc \n",
    "from torch import nn, optim \n",
    "from torch.utils.data import DataLoader, TensorDataset, random_split \n",
    "\n",
    "from torchvision import transforms as T \n",
    "from torchvision import datasets\n",
    "\n",
    "from torchmetrics import Accuracy \n",
    "\n",
    "import pandas as pd \n",
    "import numpy as np \n",
    "import matplotlib.pyplot as plt \n",
    "from sklearn.model_selection import train_test_split\n",
    "\n",
    "from tqdm import tqdm \n",
    "import cv2"
   ]
  },
  {
   "cell_type": "code",
   "execution_count": 251,
   "metadata": {},
   "outputs": [],
   "source": [
    "y = pd.read_csv('/home/ahmadreza/AI/git/rep7/dataset/archive (1)/labels_trainval.csv')"
   ]
  },
  {
   "cell_type": "code",
   "execution_count": 252,
   "metadata": {},
   "outputs": [],
   "source": [
    "#image_data = datasets.ImageFolder(f'/home/ahmadreza/AI/git/rep7/dataset/archive (1)', T.ToTensor())"
   ]
  },
  {
   "cell_type": "code",
   "execution_count": 253,
   "metadata": {},
   "outputs": [],
   "source": [
    "frames, _, label, _ = train_test_split(y.drop('class_id', axis=1), y['class_id'], train_size=0.001, random_state=42)"
   ]
  },
  {
   "cell_type": "code",
   "execution_count": 254,
   "metadata": {},
   "outputs": [
    {
     "data": {
      "text/plain": [
       "(                          frame  xmin  xmax  ymin  ymax\n",
       " 127659  1479502708261060160.jpg   297   311   138   151\n",
       " 13545   1478022257094515079.jpg   113   141   141   158\n",
       " 3748    1478020420204575229.jpg   392   400   104   115\n",
       " 119101  1479501980712932914.jpg   220   227   141   148\n",
       " 136602  1479503766332841188.jpg   156   166   134   151\n",
       " ...                         ...   ...   ...   ...   ...\n",
       " 119879  1479502074715834633.jpg    71   162   140   199\n",
       " 103694  1479499630049824830.jpg   168   198   140   167\n",
       " 131932  1479503096288212699.jpg    90   118   142   164\n",
       " 146867  1479504693891885401.jpg   433   457   116   193\n",
       " 121958  1479502272229219249.jpg   186   195   139   148\n",
       " \n",
       " [165 rows x 5 columns],\n",
       " (165, 5))"
      ]
     },
     "execution_count": 254,
     "metadata": {},
     "output_type": "execute_result"
    }
   ],
   "source": [
    "frames, frames.shape"
   ]
  },
  {
   "cell_type": "code",
   "execution_count": 255,
   "metadata": {},
   "outputs": [
    {
     "data": {
      "text/plain": [
       "(127659    1\n",
       " 13545     1\n",
       " 3748      5\n",
       " 119101    1\n",
       " 136602    3\n",
       "          ..\n",
       " 119879    1\n",
       " 103694    1\n",
       " 131932    1\n",
       " 146867    3\n",
       " 121958    1\n",
       " Name: class_id, Length: 165, dtype: int64,\n",
       " (165,))"
      ]
     },
     "execution_count": 255,
     "metadata": {},
     "output_type": "execute_result"
    }
   ],
   "source": [
    "label, label.shape"
   ]
  },
  {
   "cell_type": "code",
   "execution_count": 256,
   "metadata": {},
   "outputs": [],
   "source": [
    "frames = frames.reset_index()"
   ]
  },
  {
   "cell_type": "code",
   "execution_count": 257,
   "metadata": {},
   "outputs": [
    {
     "data": {
      "text/html": [
       "<div>\n",
       "<style scoped>\n",
       "    .dataframe tbody tr th:only-of-type {\n",
       "        vertical-align: middle;\n",
       "    }\n",
       "\n",
       "    .dataframe tbody tr th {\n",
       "        vertical-align: top;\n",
       "    }\n",
       "\n",
       "    .dataframe thead th {\n",
       "        text-align: right;\n",
       "    }\n",
       "</style>\n",
       "<table border=\"1\" class=\"dataframe\">\n",
       "  <thead>\n",
       "    <tr style=\"text-align: right;\">\n",
       "      <th></th>\n",
       "      <th>index</th>\n",
       "      <th>frame</th>\n",
       "      <th>xmin</th>\n",
       "      <th>xmax</th>\n",
       "      <th>ymin</th>\n",
       "      <th>ymax</th>\n",
       "    </tr>\n",
       "  </thead>\n",
       "  <tbody>\n",
       "    <tr>\n",
       "      <th>0</th>\n",
       "      <td>127659</td>\n",
       "      <td>1479502708261060160.jpg</td>\n",
       "      <td>297</td>\n",
       "      <td>311</td>\n",
       "      <td>138</td>\n",
       "      <td>151</td>\n",
       "    </tr>\n",
       "    <tr>\n",
       "      <th>1</th>\n",
       "      <td>13545</td>\n",
       "      <td>1478022257094515079.jpg</td>\n",
       "      <td>113</td>\n",
       "      <td>141</td>\n",
       "      <td>141</td>\n",
       "      <td>158</td>\n",
       "    </tr>\n",
       "    <tr>\n",
       "      <th>2</th>\n",
       "      <td>3748</td>\n",
       "      <td>1478020420204575229.jpg</td>\n",
       "      <td>392</td>\n",
       "      <td>400</td>\n",
       "      <td>104</td>\n",
       "      <td>115</td>\n",
       "    </tr>\n",
       "    <tr>\n",
       "      <th>3</th>\n",
       "      <td>119101</td>\n",
       "      <td>1479501980712932914.jpg</td>\n",
       "      <td>220</td>\n",
       "      <td>227</td>\n",
       "      <td>141</td>\n",
       "      <td>148</td>\n",
       "    </tr>\n",
       "    <tr>\n",
       "      <th>4</th>\n",
       "      <td>136602</td>\n",
       "      <td>1479503766332841188.jpg</td>\n",
       "      <td>156</td>\n",
       "      <td>166</td>\n",
       "      <td>134</td>\n",
       "      <td>151</td>\n",
       "    </tr>\n",
       "    <tr>\n",
       "      <th>...</th>\n",
       "      <td>...</td>\n",
       "      <td>...</td>\n",
       "      <td>...</td>\n",
       "      <td>...</td>\n",
       "      <td>...</td>\n",
       "      <td>...</td>\n",
       "    </tr>\n",
       "    <tr>\n",
       "      <th>160</th>\n",
       "      <td>119879</td>\n",
       "      <td>1479502074715834633.jpg</td>\n",
       "      <td>71</td>\n",
       "      <td>162</td>\n",
       "      <td>140</td>\n",
       "      <td>199</td>\n",
       "    </tr>\n",
       "    <tr>\n",
       "      <th>161</th>\n",
       "      <td>103694</td>\n",
       "      <td>1479499630049824830.jpg</td>\n",
       "      <td>168</td>\n",
       "      <td>198</td>\n",
       "      <td>140</td>\n",
       "      <td>167</td>\n",
       "    </tr>\n",
       "    <tr>\n",
       "      <th>162</th>\n",
       "      <td>131932</td>\n",
       "      <td>1479503096288212699.jpg</td>\n",
       "      <td>90</td>\n",
       "      <td>118</td>\n",
       "      <td>142</td>\n",
       "      <td>164</td>\n",
       "    </tr>\n",
       "    <tr>\n",
       "      <th>163</th>\n",
       "      <td>146867</td>\n",
       "      <td>1479504693891885401.jpg</td>\n",
       "      <td>433</td>\n",
       "      <td>457</td>\n",
       "      <td>116</td>\n",
       "      <td>193</td>\n",
       "    </tr>\n",
       "    <tr>\n",
       "      <th>164</th>\n",
       "      <td>121958</td>\n",
       "      <td>1479502272229219249.jpg</td>\n",
       "      <td>186</td>\n",
       "      <td>195</td>\n",
       "      <td>139</td>\n",
       "      <td>148</td>\n",
       "    </tr>\n",
       "  </tbody>\n",
       "</table>\n",
       "<p>165 rows × 6 columns</p>\n",
       "</div>"
      ],
      "text/plain": [
       "      index                    frame  xmin  xmax  ymin  ymax\n",
       "0    127659  1479502708261060160.jpg   297   311   138   151\n",
       "1     13545  1478022257094515079.jpg   113   141   141   158\n",
       "2      3748  1478020420204575229.jpg   392   400   104   115\n",
       "3    119101  1479501980712932914.jpg   220   227   141   148\n",
       "4    136602  1479503766332841188.jpg   156   166   134   151\n",
       "..      ...                      ...   ...   ...   ...   ...\n",
       "160  119879  1479502074715834633.jpg    71   162   140   199\n",
       "161  103694  1479499630049824830.jpg   168   198   140   167\n",
       "162  131932  1479503096288212699.jpg    90   118   142   164\n",
       "163  146867  1479504693891885401.jpg   433   457   116   193\n",
       "164  121958  1479502272229219249.jpg   186   195   139   148\n",
       "\n",
       "[165 rows x 6 columns]"
      ]
     },
     "execution_count": 257,
     "metadata": {},
     "output_type": "execute_result"
    }
   ],
   "source": [
    "frames"
   ]
  },
  {
   "cell_type": "code",
   "execution_count": 258,
   "metadata": {},
   "outputs": [],
   "source": [
    "frames.drop('index', axis=1, inplace=True)"
   ]
  },
  {
   "cell_type": "code",
   "execution_count": 259,
   "metadata": {},
   "outputs": [
    {
     "data": {
      "text/html": [
       "<div>\n",
       "<style scoped>\n",
       "    .dataframe tbody tr th:only-of-type {\n",
       "        vertical-align: middle;\n",
       "    }\n",
       "\n",
       "    .dataframe tbody tr th {\n",
       "        vertical-align: top;\n",
       "    }\n",
       "\n",
       "    .dataframe thead th {\n",
       "        text-align: right;\n",
       "    }\n",
       "</style>\n",
       "<table border=\"1\" class=\"dataframe\">\n",
       "  <thead>\n",
       "    <tr style=\"text-align: right;\">\n",
       "      <th></th>\n",
       "      <th>frame</th>\n",
       "      <th>xmin</th>\n",
       "      <th>xmax</th>\n",
       "      <th>ymin</th>\n",
       "      <th>ymax</th>\n",
       "    </tr>\n",
       "  </thead>\n",
       "  <tbody>\n",
       "    <tr>\n",
       "      <th>0</th>\n",
       "      <td>1479502708261060160.jpg</td>\n",
       "      <td>297</td>\n",
       "      <td>311</td>\n",
       "      <td>138</td>\n",
       "      <td>151</td>\n",
       "    </tr>\n",
       "    <tr>\n",
       "      <th>1</th>\n",
       "      <td>1478022257094515079.jpg</td>\n",
       "      <td>113</td>\n",
       "      <td>141</td>\n",
       "      <td>141</td>\n",
       "      <td>158</td>\n",
       "    </tr>\n",
       "    <tr>\n",
       "      <th>2</th>\n",
       "      <td>1478020420204575229.jpg</td>\n",
       "      <td>392</td>\n",
       "      <td>400</td>\n",
       "      <td>104</td>\n",
       "      <td>115</td>\n",
       "    </tr>\n",
       "    <tr>\n",
       "      <th>3</th>\n",
       "      <td>1479501980712932914.jpg</td>\n",
       "      <td>220</td>\n",
       "      <td>227</td>\n",
       "      <td>141</td>\n",
       "      <td>148</td>\n",
       "    </tr>\n",
       "    <tr>\n",
       "      <th>4</th>\n",
       "      <td>1479503766332841188.jpg</td>\n",
       "      <td>156</td>\n",
       "      <td>166</td>\n",
       "      <td>134</td>\n",
       "      <td>151</td>\n",
       "    </tr>\n",
       "    <tr>\n",
       "      <th>...</th>\n",
       "      <td>...</td>\n",
       "      <td>...</td>\n",
       "      <td>...</td>\n",
       "      <td>...</td>\n",
       "      <td>...</td>\n",
       "    </tr>\n",
       "    <tr>\n",
       "      <th>160</th>\n",
       "      <td>1479502074715834633.jpg</td>\n",
       "      <td>71</td>\n",
       "      <td>162</td>\n",
       "      <td>140</td>\n",
       "      <td>199</td>\n",
       "    </tr>\n",
       "    <tr>\n",
       "      <th>161</th>\n",
       "      <td>1479499630049824830.jpg</td>\n",
       "      <td>168</td>\n",
       "      <td>198</td>\n",
       "      <td>140</td>\n",
       "      <td>167</td>\n",
       "    </tr>\n",
       "    <tr>\n",
       "      <th>162</th>\n",
       "      <td>1479503096288212699.jpg</td>\n",
       "      <td>90</td>\n",
       "      <td>118</td>\n",
       "      <td>142</td>\n",
       "      <td>164</td>\n",
       "    </tr>\n",
       "    <tr>\n",
       "      <th>163</th>\n",
       "      <td>1479504693891885401.jpg</td>\n",
       "      <td>433</td>\n",
       "      <td>457</td>\n",
       "      <td>116</td>\n",
       "      <td>193</td>\n",
       "    </tr>\n",
       "    <tr>\n",
       "      <th>164</th>\n",
       "      <td>1479502272229219249.jpg</td>\n",
       "      <td>186</td>\n",
       "      <td>195</td>\n",
       "      <td>139</td>\n",
       "      <td>148</td>\n",
       "    </tr>\n",
       "  </tbody>\n",
       "</table>\n",
       "<p>165 rows × 5 columns</p>\n",
       "</div>"
      ],
      "text/plain": [
       "                       frame  xmin  xmax  ymin  ymax\n",
       "0    1479502708261060160.jpg   297   311   138   151\n",
       "1    1478022257094515079.jpg   113   141   141   158\n",
       "2    1478020420204575229.jpg   392   400   104   115\n",
       "3    1479501980712932914.jpg   220   227   141   148\n",
       "4    1479503766332841188.jpg   156   166   134   151\n",
       "..                       ...   ...   ...   ...   ...\n",
       "160  1479502074715834633.jpg    71   162   140   199\n",
       "161  1479499630049824830.jpg   168   198   140   167\n",
       "162  1479503096288212699.jpg    90   118   142   164\n",
       "163  1479504693891885401.jpg   433   457   116   193\n",
       "164  1479502272229219249.jpg   186   195   139   148\n",
       "\n",
       "[165 rows x 5 columns]"
      ]
     },
     "execution_count": 259,
     "metadata": {},
     "output_type": "execute_result"
    }
   ],
   "source": [
    "frames"
   ]
  },
  {
   "cell_type": "code",
   "execution_count": 260,
   "metadata": {},
   "outputs": [
    {
     "name": "stderr",
     "output_type": "stream",
     "text": [
      "/tmp/ipykernel_3232/2899424221.py:2: SettingWithCopyWarning: \n",
      "A value is trying to be set on a copy of a slice from a DataFrame\n",
      "\n",
      "See the caveats in the documentation: https://pandas.pydata.org/pandas-docs/stable/user_guide/indexing.html#returning-a-view-versus-a-copy\n",
      "  frames.frame[i] = tc.FloatTensor(cv2.imread(f'/home/ahmadreza/AI/git/rep7/dataset/archive (1)/images/{frames.frame[i]}')).permute(2, 0, 1)\n"
     ]
    }
   ],
   "source": [
    "for i in range(0, frames.shape[0]):\n",
    "    frames.frame[i] = tc.FloatTensor(cv2.imread(f'/home/ahmadreza/AI/git/rep7/dataset/archive (1)/images/{frames.frame[i]}')).permute(2, 0, 1)"
   ]
  },
  {
   "cell_type": "code",
   "execution_count": 261,
   "metadata": {},
   "outputs": [
    {
     "data": {
      "text/plain": [
       "(165, 5)"
      ]
     },
     "execution_count": 261,
     "metadata": {},
     "output_type": "execute_result"
    }
   ],
   "source": [
    "frames.shape"
   ]
  },
  {
   "cell_type": "code",
   "execution_count": 262,
   "metadata": {},
   "outputs": [
    {
     "data": {
      "text/plain": [
       "pandas.core.frame.DataFrame"
      ]
     },
     "execution_count": 262,
     "metadata": {},
     "output_type": "execute_result"
    }
   ],
   "source": [
    "type(frames)"
   ]
  },
  {
   "cell_type": "code",
   "execution_count": 263,
   "metadata": {},
   "outputs": [
    {
     "data": {
      "text/plain": [
       "torch.Size([3, 300, 480])"
      ]
     },
     "execution_count": 263,
     "metadata": {},
     "output_type": "execute_result"
    }
   ],
   "source": [
    "frames.frame[0].shape"
   ]
  },
  {
   "cell_type": "code",
   "execution_count": 264,
   "metadata": {},
   "outputs": [],
   "source": [
    "label = label - 1"
   ]
  },
  {
   "cell_type": "code",
   "execution_count": 265,
   "metadata": {},
   "outputs": [],
   "source": [
    "xtrain, xvalid, ytrain, yvalid = train_test_split(frames, label, train_size=0.9, random_state=42)"
   ]
  },
  {
   "cell_type": "code",
   "execution_count": 266,
   "metadata": {},
   "outputs": [
    {
     "data": {
      "text/plain": [
       "((148, 5), (17, 5), (148,), (17,))"
      ]
     },
     "execution_count": 266,
     "metadata": {},
     "output_type": "execute_result"
    }
   ],
   "source": [
    "xtrain.shape, xvalid.shape, ytrain.shape, yvalid.shape"
   ]
  },
  {
   "cell_type": "code",
   "execution_count": 267,
   "metadata": {},
   "outputs": [
    {
     "data": {
      "text/plain": [
       "array([0, 4, 2, 1])"
      ]
     },
     "execution_count": 267,
     "metadata": {},
     "output_type": "execute_result"
    }
   ],
   "source": [
    "label.unique()"
   ]
  },
  {
   "cell_type": "code",
   "execution_count": 268,
   "metadata": {},
   "outputs": [],
   "source": [
    "ytrain = tc.LongTensor(np.array(ytrain))\n",
    "yvalid = tc.LongTensor(np.array(yvalid))"
   ]
  },
  {
   "cell_type": "code",
   "execution_count": 269,
   "metadata": {},
   "outputs": [
    {
     "data": {
      "text/plain": [
       "torch.int64"
      ]
     },
     "execution_count": 269,
     "metadata": {},
     "output_type": "execute_result"
    }
   ],
   "source": [
    "ytrain.dtype"
   ]
  },
  {
   "cell_type": "code",
   "execution_count": 270,
   "metadata": {},
   "outputs": [
    {
     "data": {
      "text/plain": [
       "torch.Size([3, 300, 480])"
      ]
     },
     "execution_count": 270,
     "metadata": {},
     "output_type": "execute_result"
    }
   ],
   "source": [
    "xtrain.frame[xtrain.index[0]].shape"
   ]
  },
  {
   "cell_type": "code",
   "execution_count": 271,
   "metadata": {},
   "outputs": [],
   "source": [
    "all = xtrain.frame[xtrain.index[0]]/255\n",
    "for i in xtrain.index[1:]:\n",
    "    all += xtrain.frame[i]/255"
   ]
  },
  {
   "cell_type": "code",
   "execution_count": 272,
   "metadata": {},
   "outputs": [],
   "source": [
    "mean = all.mean(dim = [1, 2])\n",
    "std = all.std(dim = [1, 2])"
   ]
  },
  {
   "cell_type": "code",
   "execution_count": 273,
   "metadata": {},
   "outputs": [],
   "source": [
    "mean = mean/xtrain.frame.shape[0]\n",
    "std = std/xtrain.frame.shape[0]"
   ]
  },
  {
   "cell_type": "code",
   "execution_count": 274,
   "metadata": {},
   "outputs": [
    {
     "data": {
      "text/plain": [
       "(tensor([0.3867, 0.3727, 0.3581]), tensor([0.2058, 0.1895, 0.1623]))"
      ]
     },
     "execution_count": 274,
     "metadata": {},
     "output_type": "execute_result"
    }
   ],
   "source": [
    "mean, std"
   ]
  },
  {
   "cell_type": "code",
   "execution_count": 275,
   "metadata": {},
   "outputs": [],
   "source": [
    "cnn_train = xtrain.frame\n",
    "cnn_valid = xvalid.frame"
   ]
  },
  {
   "cell_type": "code",
   "execution_count": 276,
   "metadata": {},
   "outputs": [
    {
     "name": "stderr",
     "output_type": "stream",
     "text": [
      "/tmp/ipykernel_3232/629584812.py:2: SettingWithCopyWarning: \n",
      "A value is trying to be set on a copy of a slice from a DataFrame\n",
      "\n",
      "See the caveats in the documentation: https://pandas.pydata.org/pandas-docs/stable/user_guide/indexing.html#returning-a-view-versus-a-copy\n",
      "  cnn_train[i] = (((cnn_train[i]/255).permute(1, 2, 0)-mean)/std)\n",
      "/tmp/ipykernel_3232/629584812.py:5: SettingWithCopyWarning: \n",
      "A value is trying to be set on a copy of a slice from a DataFrame\n",
      "\n",
      "See the caveats in the documentation: https://pandas.pydata.org/pandas-docs/stable/user_guide/indexing.html#returning-a-view-versus-a-copy\n",
      "  cnn_valid[i] = (((cnn_valid[i]/255).permute(1, 2, 0)-mean)/std)\n"
     ]
    }
   ],
   "source": [
    "for i in cnn_train.index:\n",
    "    cnn_train[i] = (((cnn_train[i]/255).permute(1, 2, 0)-mean)/std)\n",
    "    \n",
    "for i in cnn_valid.index:\n",
    "    cnn_valid[i] = (((cnn_valid[i]/255).permute(1, 2, 0)-mean)/std)"
   ]
  },
  {
   "cell_type": "code",
   "execution_count": 277,
   "metadata": {},
   "outputs": [],
   "source": [
    "xtrain.frame = cnn_train \n",
    "xvalid.frame = cnn_valid"
   ]
  },
  {
   "cell_type": "code",
   "execution_count": 278,
   "metadata": {},
   "outputs": [],
   "source": [
    "xtrain.columns = ['CNN', 'xmin', 'xmax', 'ymin', 'ymax']\n",
    "xvalid.columns = ['CNN', 'xmin', 'xmax', 'ymin', 'ymax']"
   ]
  },
  {
   "cell_type": "code",
   "execution_count": 279,
   "metadata": {},
   "outputs": [
    {
     "data": {
      "text/plain": [
       "torch.Size([300, 480, 3])"
      ]
     },
     "execution_count": 279,
     "metadata": {},
     "output_type": "execute_result"
    }
   ],
   "source": [
    "xtrain.CNN[xtrain.index[0]].shape"
   ]
  },
  {
   "cell_type": "code",
   "execution_count": 280,
   "metadata": {},
   "outputs": [],
   "source": [
    "numerical_train = xtrain.drop('CNN', axis=1)\n",
    "numerical_valid = xvalid.drop('CNN', axis=1)"
   ]
  },
  {
   "cell_type": "code",
   "execution_count": 281,
   "metadata": {},
   "outputs": [],
   "source": [
    "numerical_train = tc.FloatTensor(np.array(numerical_train))\n",
    "numerical_valid = tc.FloatTensor(np.array(numerical_valid))"
   ]
  },
  {
   "cell_type": "code",
   "execution_count": 282,
   "metadata": {},
   "outputs": [],
   "source": [
    "mean = numerical_train.mean(dim = 0)\n",
    "std = numerical_train.std(dim = 0)"
   ]
  },
  {
   "cell_type": "code",
   "execution_count": 283,
   "metadata": {},
   "outputs": [],
   "source": [
    "numerical_train = (numerical_train - mean)/std \n",
    "numerical_valid = (numerical_valid - mean)/std"
   ]
  },
  {
   "cell_type": "code",
   "execution_count": 284,
   "metadata": {},
   "outputs": [],
   "source": [
    "cnn_train = xtrain.CNN[xtrain.CNN.index[0]].permute(2, 0, 1).unsqueeze(0)\n",
    "for i in xtrain.CNN.index[1:]:\n",
    "    x = xtrain.CNN[i].permute(2, 0, 1).unsqueeze(0)\n",
    "    cnn_train = tc.cat([cnn_train, x])"
   ]
  },
  {
   "cell_type": "code",
   "execution_count": 285,
   "metadata": {},
   "outputs": [],
   "source": [
    "cnn_valid = xvalid.CNN[xvalid.CNN.index[0]].permute(2, 0, 1).unsqueeze(0)\n",
    "for i in xvalid.CNN.index[1:]:\n",
    "    x = xvalid.CNN[i].permute(2, 0, 1).unsqueeze(0)\n",
    "    cnn_valid = tc.cat([cnn_valid, x])"
   ]
  },
  {
   "cell_type": "code",
   "execution_count": 286,
   "metadata": {},
   "outputs": [],
   "source": [
    "numerical_train_dataset = TensorDataset(numerical_train, ytrain) \n",
    "numerical_valid_dataset = TensorDataset(numerical_valid, yvalid)\n",
    "cnn_train_dataset = TensorDataset(cnn_train, ytrain)\n",
    "cnn_valid_dataset = TensorDataset(cnn_valid, yvalid)"
   ]
  },
  {
   "cell_type": "code",
   "execution_count": 287,
   "metadata": {},
   "outputs": [],
   "source": [
    "tc.manual_seed(7)\n",
    "numerical_train_loader = DataLoader(numerical_train_dataset, batch_size=32, shuffle = False)\n",
    "numerical_valid_loader = DataLoader(numerical_valid_dataset, batch_size=8, shuffle = False)\n",
    "\n",
    "cnn_train_loader = DataLoader(cnn_train_dataset, batch_size=32, shuffle = False)\n",
    "cnn_valid_loader = DataLoader(cnn_valid_dataset, batch_size=8, shuffle = False)"
   ]
  },
  {
   "cell_type": "code",
   "execution_count": 288,
   "metadata": {},
   "outputs": [],
   "source": [
    "xn, yn = next(iter(numerical_train_loader))\n",
    "xc, yc = next(iter(cnn_train_loader))"
   ]
  },
  {
   "cell_type": "code",
   "execution_count": 289,
   "metadata": {},
   "outputs": [
    {
     "data": {
      "text/plain": [
       "(torch.Size([148, 3, 300, 480]), torch.Size([148, 4, 1]))"
      ]
     },
     "execution_count": 289,
     "metadata": {},
     "output_type": "execute_result"
    }
   ],
   "source": [
    "cnn_train.shape, numerical_train.unsqueeze(2).shape"
   ]
  },
  {
   "cell_type": "code",
   "execution_count": 290,
   "metadata": {},
   "outputs": [
    {
     "data": {
      "text/plain": [
       "torch.Size([32, 3, 300, 480])"
      ]
     },
     "execution_count": 290,
     "metadata": {},
     "output_type": "execute_result"
    }
   ],
   "source": [
    "xc.shape"
   ]
  },
  {
   "cell_type": "code",
   "execution_count": 291,
   "metadata": {},
   "outputs": [],
   "source": [
    "#part 1"
   ]
  },
  {
   "cell_type": "code",
   "execution_count": 292,
   "metadata": {},
   "outputs": [],
   "source": [
    "class CNNModel(nn.Module):\n",
    "\n",
    "    def __init__(self, in_channels, num_filters, kernel_size, num_classes):\n",
    "        super().__init__()\n",
    "\n",
    "        self.conv1 = nn.Conv2d(in_channels, num_filters[0], kernel_size[0], stride = 1, padding = 1, bias = True)\n",
    "        self.bn1 = nn.BatchNorm2d(num_filters[0])\n",
    "        self.mpool = nn.MaxPool2d(2, 2)\n",
    "\n",
    "        self.conv2 = nn.Conv2d(num_filters[0], num_filters[1], kernel_size[1], stride = 1, padding = 1, bias = True)\n",
    "        self.bn2 = nn.BatchNorm2d(num_filters[1])\n",
    "        \n",
    "        self.apool = nn.AdaptiveAvgPool2d(output_size=(1,1))\n",
    "\n",
    "        self.fc = nn.LazyLinear(num_classes)\n",
    "\n",
    "        self.seq = nn.Sequential(nn.LazyLinear(32), nn.ReLU(), nn.LazyLinear(64), nn.ReLU(), nn.LazyLinear(32), nn.ReLU(), nn.LazyLinear(num_classes))\n",
    "\n",
    "    def forward(self, cnn_data, numerical_data):\n",
    "\n",
    "        y = self.bn1(self.conv1(cnn_data)).relu()\n",
    "        y = self.bn2(self.conv2(y)).relu()\n",
    "        \n",
    "        y = self.apool(y)\n",
    "\n",
    "        y = y.flatten(1)\n",
    "\n",
    "        y = tc.cat([y, numerical_data], dim=1)\n",
    "\n",
    "        y = self.seq(y)\n",
    "\n",
    "        return y"
   ]
  },
  {
   "cell_type": "code",
   "execution_count": 293,
   "metadata": {},
   "outputs": [
    {
     "name": "stderr",
     "output_type": "stream",
     "text": [
      "/home/ahmadreza/anaconda3/lib/python3.9/site-packages/torch/nn/modules/lazy.py:180: UserWarning: Lazy modules are a new feature under heavy development so changes to the API or functionality can happen at any moment.\n",
      "  warnings.warn('Lazy modules are a new feature under heavy development '\n"
     ]
    }
   ],
   "source": [
    "model = CNNModel(3, [8, 8], [3, 3], 5)"
   ]
  },
  {
   "cell_type": "code",
   "execution_count": 294,
   "metadata": {},
   "outputs": [],
   "source": [
    "p = model(xc, xn)"
   ]
  },
  {
   "cell_type": "code",
   "execution_count": 295,
   "metadata": {},
   "outputs": [
    {
     "data": {
      "text/plain": [
       "torch.Size([32, 5])"
      ]
     },
     "execution_count": 295,
     "metadata": {},
     "output_type": "execute_result"
    }
   ],
   "source": [
    "p.shape"
   ]
  },
  {
   "cell_type": "code",
   "execution_count": 296,
   "metadata": {},
   "outputs": [
    {
     "data": {
      "text/plain": [
       "(tensor(1.6845, grad_fn=<NllLossBackward0>),\n",
       " tensor(1.6845, grad_fn=<NllLossBackward0>))"
      ]
     },
     "execution_count": 296,
     "metadata": {},
     "output_type": "execute_result"
    }
   ],
   "source": [
    "nn.CrossEntropyLoss()(p, yc), nn.CrossEntropyLoss()(p, yn)"
   ]
  },
  {
   "cell_type": "code",
   "execution_count": 297,
   "metadata": {},
   "outputs": [],
   "source": [
    "device = 'cpu' if tc.cuda.is_available() else 'cpu'"
   ]
  },
  {
   "cell_type": "code",
   "execution_count": 298,
   "metadata": {},
   "outputs": [],
   "source": [
    "model = model.to(device)"
   ]
  },
  {
   "cell_type": "code",
   "execution_count": 299,
   "metadata": {},
   "outputs": [],
   "source": [
    "optimizer = optim.SGD(model.parameters(), lr = 0.01, momentum = 0.9)\n",
    "loss_func = nn.CrossEntropyLoss()"
   ]
  },
  {
   "cell_type": "code",
   "execution_count": 300,
   "metadata": {},
   "outputs": [],
   "source": [
    "def num_choose(i, data_loader):\n",
    "    xn, yn = 0, 0\n",
    "    o = 0\n",
    "    for x, y in data_loader:\n",
    "        if o==i:\n",
    "            xn, yn = x, y\n",
    "            \n",
    "        o += 1\n",
    "    \n",
    "    return xn, yn"
   ]
  },
  {
   "cell_type": "code",
   "execution_count": 301,
   "metadata": {},
   "outputs": [],
   "source": [
    "class AverageMeter(object):\n",
    "    \"\"\"Computes and stores the average and current value\"\"\"\n",
    "    def __init__(self):\n",
    "        self.reset()\n",
    "\n",
    "    def reset(self):\n",
    "        self.val = 0\n",
    "        self.avg = 0\n",
    "        self.sum = 0\n",
    "        self.count = 0\n",
    "\n",
    "    def update(self, val, n=1):\n",
    "        self.val = val\n",
    "        self.sum += val * n\n",
    "        self.count += n\n",
    "        self.avg = self.sum / self.count"
   ]
  },
  {
   "cell_type": "code",
   "execution_count": 302,
   "metadata": {},
   "outputs": [],
   "source": [
    "def train_one_epoch(mode, cnn_loader, numerical_loader, loss_func, optimizer, epoch):\n",
    "    model.train()\n",
    "\n",
    "    train_loss = AverageMeter()\n",
    "    train_acc = Accuracy(task = 'multiclass', num_classes = 5)\n",
    "\n",
    "    with tqdm(cnn_loader, unit = 'batch') as tepoch:\n",
    "        \n",
    "        i = 0\n",
    "        for xc, yc in tepoch:\n",
    "\n",
    "            if epoch is not None:\n",
    "                tepoch.set_description(f'Epoch={epoch}')\n",
    "            xn, yn = num_choose(i, numerical_loader)\n",
    "\n",
    "            xn = xn.to(device)\n",
    "            xc = xc.to(device)\n",
    "\n",
    "            yn = yn.to(device)\n",
    "\n",
    "            yp = model(xc, xn)\n",
    "            loss = loss_func(yp, yn)\n",
    "            loss.backward()\n",
    "            optimizer.step()\n",
    "            optimizer.zero_grad()\n",
    "            train_loss.update(loss)\n",
    "            train_acc(yp, yn.int())\n",
    "            \n",
    "            tepoch.set_postfix(loss = train_loss.avg, accuracy = 100 * train_acc.compute().item())\n",
    "\n",
    "            i += 1\n",
    "\n",
    "    return model, train_loss.avg.item(), train_acc.compute().item()"
   ]
  },
  {
   "cell_type": "code",
   "execution_count": null,
   "metadata": {},
   "outputs": [],
   "source": [
    "def validation(model, cnn_loader, numerical_loader, loss_func):\n",
    "    model.eval()\n",
    "\n",
    "    valid_loss = AverageMeter()\n",
    "    valid_acc = Accuracy(task='multiclass', num_classes=5)\n",
    "\n",
    "    i = 0\n",
    "    for xc, yc in cnn_valid_loader:\n",
    "        \n",
    "        xn, yn = num_choose(i, numerical_valid_loader)\n",
    "        i+=1\n",
    "\n",
    "        xn = xn.to(device)\n",
    "        xc = xc.to(device)\n",
    "\n",
    "        yn = yn.to(device)\n",
    "\n",
    "        yp = model(xc, xn)\n",
    "        loss = loss_func(yp, yn)\n",
    "\n",
    "        valid_loss.update(loss)\n",
    "        valid_acc(yp, yn.int())\n",
    "\n",
    "    print(f'loss={valid_loss.avg:.4}, accuracy={valid_acc.compute():.4}')\n",
    "    print()\n",
    "\n",
    "\n",
    "    return valid_loss.avg.item(), valid_acc.compute().item()"
   ]
  },
  {
   "cell_type": "code",
   "execution_count": null,
   "metadata": {},
   "outputs": [],
   "source": [
    "model = CNNModel(3, [8, 8], [3, 3], 5).to(device)"
   ]
  },
  {
   "cell_type": "code",
   "execution_count": null,
   "metadata": {},
   "outputs": [],
   "source": [
    "optimizer = optim.Adam(model.parameters(), lr = 0.1, betas = [0.9, 0.99])\n",
    "loss_func = nn.CrossEntropyLoss()"
   ]
  },
  {
   "cell_type": "code",
   "execution_count": null,
   "metadata": {},
   "outputs": [
    {
     "name": "stderr",
     "output_type": "stream",
     "text": [
      "Epoch=0: 100%|██████████| 5/5 [00:02<00:00,  1.72batch/s, accuracy=42.6, loss=tensor(1.4844, grad_fn=<DivBackward0>)]\n",
      "Epoch=1: 100%|██████████| 5/5 [00:02<00:00,  1.80batch/s, accuracy=62.8, loss=tensor(0.9087, grad_fn=<DivBackward0>)]\n",
      "Epoch=2: 100%|██████████| 5/5 [00:02<00:00,  1.80batch/s, accuracy=77.7, loss=tensor(0.8135, grad_fn=<DivBackward0>)]\n",
      "Epoch=3: 100%|██████████| 5/5 [00:03<00:00,  1.63batch/s, accuracy=84.5, loss=tensor(0.5694, grad_fn=<DivBackward0>)]\n",
      "Epoch=4: 100%|██████████| 5/5 [00:03<00:00,  1.53batch/s, accuracy=85.1, loss=tensor(0.4586, grad_fn=<DivBackward0>)]\n",
      "Epoch=5: 100%|██████████| 5/5 [00:03<00:00,  1.47batch/s, accuracy=85.8, loss=tensor(0.4254, grad_fn=<DivBackward0>)]\n",
      "Epoch=6: 100%|██████████| 5/5 [00:02<00:00,  1.69batch/s, accuracy=85.8, loss=tensor(0.3884, grad_fn=<DivBackward0>)]\n",
      "Epoch=7: 100%|██████████| 5/5 [00:02<00:00,  1.68batch/s, accuracy=85.8, loss=tensor(0.3777, grad_fn=<DivBackward0>)]\n",
      "Epoch=8: 100%|██████████| 5/5 [00:03<00:00,  1.61batch/s, accuracy=85.1, loss=tensor(0.3835, grad_fn=<DivBackward0>)]\n",
      "Epoch=9: 100%|██████████| 5/5 [00:03<00:00,  1.58batch/s, accuracy=83.1, loss=tensor(0.6392, grad_fn=<DivBackward0>)]\n"
     ]
    }
   ],
   "source": [
    "for epoch in range(10):\n",
    "    model, _, _ = train_one_epoch(model, cnn_train_loader, numerical_train_loader, loss_func, optimizer, epoch)"
   ]
  },
  {
   "cell_type": "code",
   "execution_count": null,
   "metadata": {},
   "outputs": [
    {
     "name": "stdout",
     "output_type": "stream",
     "text": [
      "lr=0.9\n"
     ]
    },
    {
     "name": "stderr",
     "output_type": "stream",
     "text": [
      "Epoch=0: 100%|██████████| 5/5 [00:07<00:00,  1.47s/batch, accuracy=37.2, loss=tensor(1430.4500, grad_fn=<DivBackward0>)]\n",
      "Epoch=1: 100%|██████████| 5/5 [00:06<00:00,  1.39s/batch, accuracy=77, loss=tensor(2.7838, grad_fn=<DivBackward0>)]  \n",
      "Epoch=2: 100%|██████████| 5/5 [00:06<00:00,  1.29s/batch, accuracy=75, loss=tensor(1.1128, grad_fn=<DivBackward0>)]  \n",
      "Epoch=3: 100%|██████████| 5/5 [00:06<00:00,  1.34s/batch, accuracy=75, loss=tensor(1.0011, grad_fn=<DivBackward0>)]  \n",
      "Epoch=4: 100%|██████████| 5/5 [00:06<00:00,  1.33s/batch, accuracy=74.3, loss=tensor(1.1787, grad_fn=<DivBackward0>)]\n"
     ]
    },
    {
     "name": "stdout",
     "output_type": "stream",
     "text": [
      "lr=0.5\n"
     ]
    },
    {
     "name": "stderr",
     "output_type": "stream",
     "text": [
      "Epoch=0: 100%|██████████| 5/5 [00:07<00:00,  1.46s/batch, accuracy=45.9, loss=tensor(411.5939, grad_fn=<DivBackward0>)]\n",
      "Epoch=1: 100%|██████████| 5/5 [00:07<00:00,  1.45s/batch, accuracy=74.3, loss=tensor(1.1929, grad_fn=<DivBackward0>)]\n",
      "Epoch=2: 100%|██████████| 5/5 [00:08<00:00,  1.61s/batch, accuracy=73, loss=tensor(1.4895, grad_fn=<DivBackward0>)]  \n",
      "Epoch=3: 100%|██████████| 5/5 [00:06<00:00,  1.35s/batch, accuracy=75, loss=tensor(0.8155, grad_fn=<DivBackward0>)]  \n",
      "Epoch=4: 100%|██████████| 5/5 [00:07<00:00,  1.40s/batch, accuracy=75, loss=tensor(2.0602, grad_fn=<DivBackward0>)]  \n"
     ]
    },
    {
     "name": "stdout",
     "output_type": "stream",
     "text": [
      "lr=0.4\n"
     ]
    },
    {
     "name": "stderr",
     "output_type": "stream",
     "text": [
      "Epoch=0: 100%|██████████| 5/5 [00:06<00:00,  1.33s/batch, accuracy=37.2, loss=tensor(59.2455, grad_fn=<DivBackward0>)] \n",
      "Epoch=1: 100%|██████████| 5/5 [00:06<00:00,  1.35s/batch, accuracy=72.3, loss=tensor(4.9607, grad_fn=<DivBackward0>)]\n",
      "Epoch=2: 100%|██████████| 5/5 [00:07<00:00,  1.49s/batch, accuracy=79.7, loss=tensor(2.0542, grad_fn=<DivBackward0>)]\n",
      "Epoch=3: 100%|██████████| 5/5 [00:07<00:00,  1.59s/batch, accuracy=77.7, loss=tensor(2.5410, grad_fn=<DivBackward0>)]\n",
      "Epoch=4: 100%|██████████| 5/5 [00:08<00:00,  1.73s/batch, accuracy=79.1, loss=tensor(1.7704, grad_fn=<DivBackward0>)]\n"
     ]
    },
    {
     "name": "stdout",
     "output_type": "stream",
     "text": [
      "lr=0.2\n"
     ]
    },
    {
     "name": "stderr",
     "output_type": "stream",
     "text": [
      "Epoch=0: 100%|██████████| 5/5 [00:08<00:00,  1.64s/batch, accuracy=65.5, loss=tensor(6.9521, grad_fn=<DivBackward0>)] \n",
      "Epoch=1: 100%|██████████| 5/5 [00:07<00:00,  1.54s/batch, accuracy=75.7, loss=tensor(0.8586, grad_fn=<DivBackward0>)]\n",
      "Epoch=2: 100%|██████████| 5/5 [00:07<00:00,  1.47s/batch, accuracy=78.4, loss=tensor(0.7865, grad_fn=<DivBackward0>)]\n",
      "Epoch=3: 100%|██████████| 5/5 [00:07<00:00,  1.46s/batch, accuracy=83.1, loss=tensor(0.7033, grad_fn=<DivBackward0>)]\n",
      "Epoch=4: 100%|██████████| 5/5 [00:07<00:00,  1.47s/batch, accuracy=84.5, loss=tensor(0.5748, grad_fn=<DivBackward0>)]\n"
     ]
    },
    {
     "name": "stdout",
     "output_type": "stream",
     "text": [
      "lr=0.1\n"
     ]
    },
    {
     "name": "stderr",
     "output_type": "stream",
     "text": [
      "Epoch=0: 100%|██████████| 5/5 [00:06<00:00,  1.33s/batch, accuracy=43.2, loss=tensor(1.5840, grad_fn=<DivBackward0>)]\n",
      "Epoch=1: 100%|██████████| 5/5 [00:06<00:00,  1.35s/batch, accuracy=75, loss=tensor(1.0849, grad_fn=<DivBackward0>)]  \n",
      "Epoch=2: 100%|██████████| 5/5 [00:06<00:00,  1.32s/batch, accuracy=75, loss=tensor(0.7412, grad_fn=<DivBackward0>)]  \n",
      "Epoch=3: 100%|██████████| 5/5 [00:06<00:00,  1.31s/batch, accuracy=75, loss=tensor(0.6832, grad_fn=<DivBackward0>)]  \n",
      "Epoch=4: 100%|██████████| 5/5 [00:06<00:00,  1.28s/batch, accuracy=85.1, loss=tensor(0.5090, grad_fn=<DivBackward0>)]\n"
     ]
    },
    {
     "name": "stdout",
     "output_type": "stream",
     "text": [
      "lr=0.01\n"
     ]
    },
    {
     "name": "stderr",
     "output_type": "stream",
     "text": [
      "Epoch=0: 100%|██████████| 5/5 [00:06<00:00,  1.34s/batch, accuracy=75, loss=tensor(1.1846, grad_fn=<DivBackward0>)]  \n",
      "Epoch=1: 100%|██████████| 5/5 [00:07<00:00,  1.41s/batch, accuracy=75, loss=tensor(0.7390, grad_fn=<DivBackward0>)]  \n",
      "Epoch=2: 100%|██████████| 5/5 [00:07<00:00,  1.41s/batch, accuracy=85.8, loss=tensor(0.5692, grad_fn=<DivBackward0>)]\n",
      "Epoch=3: 100%|██████████| 5/5 [00:06<00:00,  1.29s/batch, accuracy=84.5, loss=tensor(0.4747, grad_fn=<DivBackward0>)]\n",
      "Epoch=4: 100%|██████████| 5/5 [00:06<00:00,  1.32s/batch, accuracy=85.1, loss=tensor(0.4436, grad_fn=<DivBackward0>)]\n"
     ]
    },
    {
     "name": "stdout",
     "output_type": "stream",
     "text": [
      "lr=0.001\n"
     ]
    },
    {
     "name": "stderr",
     "output_type": "stream",
     "text": [
      "Epoch=0: 100%|██████████| 5/5 [00:06<00:00,  1.38s/batch, accuracy=39.9, loss=tensor(1.5370, grad_fn=<DivBackward0>)]\n",
      "Epoch=1: 100%|██████████| 5/5 [00:07<00:00,  1.42s/batch, accuracy=75, loss=tensor(1.5024, grad_fn=<DivBackward0>)]  \n",
      "Epoch=2: 100%|██████████| 5/5 [00:06<00:00,  1.40s/batch, accuracy=75, loss=tensor(1.4646, grad_fn=<DivBackward0>)]  \n",
      "Epoch=3: 100%|██████████| 5/5 [00:07<00:00,  1.48s/batch, accuracy=75, loss=tensor(1.4188, grad_fn=<DivBackward0>)]  \n",
      "Epoch=4: 100%|██████████| 5/5 [00:06<00:00,  1.38s/batch, accuracy=75, loss=tensor(1.3575, grad_fn=<DivBackward0>)]  \n"
     ]
    }
   ],
   "source": [
    "lr = [0.9, 0.5, 0.4, 0.2, 0.1, 0.01, 0.001]\n",
    "for l in lr:\n",
    "    model  = model = CNNModel(3, [16, 16], [3, 3], 5).to(device)\n",
    "    optimizer = optim.Adam(model.parameters(), lr = l, betas = [0.9, 0.99])\n",
    "    num_epoch = 5\n",
    "    print(f'lr={l}')\n",
    "    for epoch in range(num_epoch):\n",
    "        model, _, _ = train_one_epoch(model, cnn_train_loader, numerical_train_loader, loss_func, optimizer, epoch)"
   ]
  },
  {
   "cell_type": "code",
   "execution_count": null,
   "metadata": {},
   "outputs": [
    {
     "name": "stdout",
     "output_type": "stream",
     "text": [
      "LR=0.01,weight_decay=0\n"
     ]
    },
    {
     "name": "stderr",
     "output_type": "stream",
     "text": [
      "Epoch=0: 100%|██████████| 5/5 [00:06<00:00,  1.35s/batch, accuracy=58.1, loss=tensor(1.4316, grad_fn=<DivBackward0>)]\n",
      "Epoch=1: 100%|██████████| 5/5 [00:06<00:00,  1.29s/batch, accuracy=75, loss=tensor(0.8249, grad_fn=<DivBackward0>)]  \n",
      "Epoch=2: 100%|██████████| 5/5 [00:07<00:00,  1.44s/batch, accuracy=76.4, loss=tensor(0.7171, grad_fn=<DivBackward0>)]\n",
      "Epoch=3: 100%|██████████| 5/5 [00:07<00:00,  1.49s/batch, accuracy=84.5, loss=tensor(0.5427, grad_fn=<DivBackward0>)]\n",
      "Epoch=4: 100%|██████████| 5/5 [00:07<00:00,  1.58s/batch, accuracy=85.1, loss=tensor(0.4577, grad_fn=<DivBackward0>)]\n"
     ]
    },
    {
     "name": "stdout",
     "output_type": "stream",
     "text": [
      "\n",
      "LR=0.01,weight_decay=0.0001\n"
     ]
    },
    {
     "name": "stderr",
     "output_type": "stream",
     "text": [
      "Epoch=0: 100%|██████████| 5/5 [00:06<00:00,  1.30s/batch, accuracy=60.8, loss=tensor(1.3359, grad_fn=<DivBackward0>)]\n",
      "Epoch=1: 100%|██████████| 5/5 [00:06<00:00,  1.39s/batch, accuracy=75, loss=tensor(0.8197, grad_fn=<DivBackward0>)]  \n",
      "Epoch=2: 100%|██████████| 5/5 [00:07<00:00,  1.40s/batch, accuracy=79.7, loss=tensor(0.6443, grad_fn=<DivBackward0>)]\n",
      "Epoch=3: 100%|██████████| 5/5 [00:06<00:00,  1.33s/batch, accuracy=84.5, loss=tensor(0.4971, grad_fn=<DivBackward0>)]\n",
      "Epoch=4: 100%|██████████| 5/5 [00:06<00:00,  1.35s/batch, accuracy=85.1, loss=tensor(0.4442, grad_fn=<DivBackward0>)]\n"
     ]
    },
    {
     "name": "stdout",
     "output_type": "stream",
     "text": [
      "\n",
      "LR=0.01,weight_decay=1e-05\n"
     ]
    },
    {
     "name": "stderr",
     "output_type": "stream",
     "text": [
      "Epoch=0: 100%|██████████| 5/5 [00:06<00:00,  1.36s/batch, accuracy=75.7, loss=tensor(1.2556, grad_fn=<DivBackward0>)]\n",
      "Epoch=1: 100%|██████████| 5/5 [00:07<00:00,  1.44s/batch, accuracy=75, loss=tensor(0.7433, grad_fn=<DivBackward0>)]  \n",
      "Epoch=2: 100%|██████████| 5/5 [00:07<00:00,  1.51s/batch, accuracy=85.8, loss=tensor(0.5567, grad_fn=<DivBackward0>)]\n",
      "Epoch=3: 100%|██████████| 5/5 [00:07<00:00,  1.45s/batch, accuracy=84.5, loss=tensor(0.4882, grad_fn=<DivBackward0>)]\n",
      "Epoch=4: 100%|██████████| 5/5 [00:06<00:00,  1.39s/batch, accuracy=85.1, loss=tensor(0.4452, grad_fn=<DivBackward0>)]\n"
     ]
    },
    {
     "name": "stdout",
     "output_type": "stream",
     "text": [
      "\n",
      "LR=0.01,weight_decay=1e-06\n"
     ]
    },
    {
     "name": "stderr",
     "output_type": "stream",
     "text": [
      "Epoch=0: 100%|██████████| 5/5 [00:06<00:00,  1.35s/batch, accuracy=43.2, loss=tensor(1.4977, grad_fn=<DivBackward0>)]\n",
      "Epoch=1: 100%|██████████| 5/5 [00:06<00:00,  1.32s/batch, accuracy=75, loss=tensor(0.7698, grad_fn=<DivBackward0>)]  \n",
      "Epoch=2: 100%|██████████| 5/5 [00:07<00:00,  1.41s/batch, accuracy=83.8, loss=tensor(0.6222, grad_fn=<DivBackward0>)]\n",
      "Epoch=3: 100%|██████████| 5/5 [00:06<00:00,  1.33s/batch, accuracy=84.5, loss=tensor(0.4984, grad_fn=<DivBackward0>)]\n",
      "Epoch=4: 100%|██████████| 5/5 [00:07<00:00,  1.41s/batch, accuracy=85.8, loss=tensor(0.4468, grad_fn=<DivBackward0>)]\n"
     ]
    },
    {
     "name": "stdout",
     "output_type": "stream",
     "text": [
      "\n",
      "LR=0.015,weight_decay=0\n"
     ]
    },
    {
     "name": "stderr",
     "output_type": "stream",
     "text": [
      "Epoch=0: 100%|██████████| 5/5 [00:07<00:00,  1.54s/batch, accuracy=74.3, loss=tensor(1.1195, grad_fn=<DivBackward0>)]\n",
      "Epoch=1: 100%|██████████| 5/5 [00:07<00:00,  1.45s/batch, accuracy=77.7, loss=tensor(0.7857, grad_fn=<DivBackward0>)]\n",
      "Epoch=2: 100%|██████████| 5/5 [00:06<00:00,  1.38s/batch, accuracy=84.5, loss=tensor(0.5494, grad_fn=<DivBackward0>)]\n",
      "Epoch=3: 100%|██████████| 5/5 [00:07<00:00,  1.45s/batch, accuracy=85.1, loss=tensor(0.4902, grad_fn=<DivBackward0>)]\n",
      "Epoch=4: 100%|██████████| 5/5 [00:06<00:00,  1.29s/batch, accuracy=85.8, loss=tensor(0.4521, grad_fn=<DivBackward0>)]\n"
     ]
    },
    {
     "name": "stdout",
     "output_type": "stream",
     "text": [
      "\n",
      "LR=0.015,weight_decay=0.0001\n"
     ]
    },
    {
     "name": "stderr",
     "output_type": "stream",
     "text": [
      "Epoch=0: 100%|██████████| 5/5 [00:07<00:00,  1.44s/batch, accuracy=52, loss=tensor(1.3341, grad_fn=<DivBackward0>)]  \n",
      "Epoch=1: 100%|██████████| 5/5 [00:08<00:00,  1.62s/batch, accuracy=75.7, loss=tensor(0.8085, grad_fn=<DivBackward0>)]\n",
      "Epoch=2: 100%|██████████| 5/5 [00:07<00:00,  1.54s/batch, accuracy=85.1, loss=tensor(0.5660, grad_fn=<DivBackward0>)]\n",
      "Epoch=3: 100%|██████████| 5/5 [00:07<00:00,  1.50s/batch, accuracy=84.5, loss=tensor(0.4688, grad_fn=<DivBackward0>)]\n",
      "Epoch=4: 100%|██████████| 5/5 [00:07<00:00,  1.53s/batch, accuracy=85.8, loss=tensor(0.4329, grad_fn=<DivBackward0>)]\n"
     ]
    },
    {
     "name": "stdout",
     "output_type": "stream",
     "text": [
      "\n",
      "LR=0.015,weight_decay=1e-05\n"
     ]
    },
    {
     "name": "stderr",
     "output_type": "stream",
     "text": [
      "Epoch=0: 100%|██████████| 5/5 [00:07<00:00,  1.54s/batch, accuracy=58.1, loss=tensor(1.1805, grad_fn=<DivBackward0>)]\n",
      "Epoch=1: 100%|██████████| 5/5 [00:07<00:00,  1.44s/batch, accuracy=75.7, loss=tensor(0.8349, grad_fn=<DivBackward0>)]\n",
      "Epoch=2: 100%|██████████| 5/5 [00:06<00:00,  1.37s/batch, accuracy=85.1, loss=tensor(0.5931, grad_fn=<DivBackward0>)]\n",
      "Epoch=3: 100%|██████████| 5/5 [00:08<00:00,  1.66s/batch, accuracy=84.5, loss=tensor(0.4881, grad_fn=<DivBackward0>)]\n",
      "Epoch=4: 100%|██████████| 5/5 [00:08<00:00,  1.70s/batch, accuracy=85.1, loss=tensor(0.4508, grad_fn=<DivBackward0>)]\n"
     ]
    },
    {
     "name": "stdout",
     "output_type": "stream",
     "text": [
      "\n",
      "LR=0.015,weight_decay=1e-06\n"
     ]
    },
    {
     "name": "stderr",
     "output_type": "stream",
     "text": [
      "Epoch=0: 100%|██████████| 5/5 [00:07<00:00,  1.49s/batch, accuracy=58.8, loss=tensor(1.3129, grad_fn=<DivBackward0>)]\n",
      "Epoch=1: 100%|██████████| 5/5 [00:07<00:00,  1.56s/batch, accuracy=79.7, loss=tensor(0.6723, grad_fn=<DivBackward0>)]\n",
      "Epoch=2: 100%|██████████| 5/5 [00:07<00:00,  1.53s/batch, accuracy=84.5, loss=tensor(0.5122, grad_fn=<DivBackward0>)]\n",
      "Epoch=3: 100%|██████████| 5/5 [00:07<00:00,  1.56s/batch, accuracy=85.8, loss=tensor(0.4436, grad_fn=<DivBackward0>)]\n",
      "Epoch=4: 100%|██████████| 5/5 [00:08<00:00,  1.66s/batch, accuracy=85.8, loss=tensor(0.4263, grad_fn=<DivBackward0>)]"
     ]
    },
    {
     "name": "stdout",
     "output_type": "stream",
     "text": [
      "\n"
     ]
    },
    {
     "name": "stderr",
     "output_type": "stream",
     "text": [
      "\n"
     ]
    }
   ],
   "source": [
    "lr_n = [0.01, 0.015]\n",
    "wd_n = [0, 1e-4, 1e-5, 1e-6]\n",
    "result=[]\n",
    "for lr in lr_n:\n",
    "  lr_result=[]\n",
    "  for wd in wd_n:\n",
    "    model  = model = CNNModel(3, [16, 16], [3, 3], 5).to(device)\n",
    "    optimizer = optim.Adam(model.parameters(), lr = lr, betas = [0.9, 0.99], weight_decay=wd)\n",
    "    N=5\n",
    "    print(f'LR={lr},weight_decay={wd}')\n",
    "\n",
    "    for i in range(N):\n",
    "\n",
    "      model,train_loss,_=train_one_epoch(model, cnn_train_loader, numerical_train_loader,loss_func,optimizer,i)\n",
    "\n",
    "      if i==0:\n",
    "        e1=train_loss\n",
    "      if i==N-1:\n",
    "        e2=train_loss\n",
    "\n",
    "    lr_result.append(f'{e1:.4}-{e2:.4}={e1-e2:.4}')\n",
    "    print()\n",
    "  result.append(lr_result)"
   ]
  },
  {
   "cell_type": "code",
   "execution_count": null,
   "metadata": {},
   "outputs": [
    {
     "data": {
      "text/html": [
       "<div>\n",
       "<style scoped>\n",
       "    .dataframe tbody tr th:only-of-type {\n",
       "        vertical-align: middle;\n",
       "    }\n",
       "\n",
       "    .dataframe tbody tr th {\n",
       "        vertical-align: top;\n",
       "    }\n",
       "\n",
       "    .dataframe thead th {\n",
       "        text-align: right;\n",
       "    }\n",
       "</style>\n",
       "<table border=\"1\" class=\"dataframe\">\n",
       "  <thead>\n",
       "    <tr style=\"text-align: right;\">\n",
       "      <th></th>\n",
       "      <th>0.000000</th>\n",
       "      <th>0.000100</th>\n",
       "      <th>0.000010</th>\n",
       "      <th>0.000001</th>\n",
       "    </tr>\n",
       "  </thead>\n",
       "  <tbody>\n",
       "    <tr>\n",
       "      <th>0.010</th>\n",
       "      <td>1.432-0.4577=0.9739</td>\n",
       "      <td>1.336-0.4442=0.8917</td>\n",
       "      <td>1.256-0.4452=0.8104</td>\n",
       "      <td>1.498-0.4468=1.051</td>\n",
       "    </tr>\n",
       "    <tr>\n",
       "      <th>0.015</th>\n",
       "      <td>1.119-0.4521=0.6674</td>\n",
       "      <td>1.334-0.4329=0.9012</td>\n",
       "      <td>1.18-0.4508=0.7297</td>\n",
       "      <td>1.313-0.4263=0.8866</td>\n",
       "    </tr>\n",
       "  </tbody>\n",
       "</table>\n",
       "</div>"
      ],
      "text/plain": [
       "                  0.000000             0.000100             0.000010  \\\n",
       "0.010  1.432-0.4577=0.9739  1.336-0.4442=0.8917  1.256-0.4452=0.8104   \n",
       "0.015  1.119-0.4521=0.6674  1.334-0.4329=0.9012   1.18-0.4508=0.7297   \n",
       "\n",
       "                  0.000001  \n",
       "0.010   1.498-0.4468=1.051  \n",
       "0.015  1.313-0.4263=0.8866  "
      ]
     },
     "execution_count": 58,
     "metadata": {},
     "output_type": "execute_result"
    }
   ],
   "source": [
    "pd.DataFrame(result, index = lr_n, columns = wd_n)"
   ]
  },
  {
   "cell_type": "code",
   "execution_count": null,
   "metadata": {},
   "outputs": [],
   "source": [
    "model = CNNModel(3, [16, 16], [3, 3], 5).to(device)"
   ]
  },
  {
   "cell_type": "code",
   "execution_count": null,
   "metadata": {},
   "outputs": [
    {
     "ename": "NameError",
     "evalue": "name 'optim' is not defined",
     "output_type": "error",
     "traceback": [
      "\u001b[0;31m---------------------------------------------------------------------------\u001b[0m",
      "\u001b[0;31mNameError\u001b[0m                                 Traceback (most recent call last)",
      "\u001b[1;32m/home/ahmadreza/AI/git/rep7/vision code.ipynb Cell 61\u001b[0m in \u001b[0;36m<cell line: 1>\u001b[0;34m()\u001b[0m\n\u001b[0;32m----> <a href='vscode-notebook-cell:/home/ahmadreza/AI/git/rep7/vision%20code.ipynb#Y114sZmlsZQ%3D%3D?line=0'>1</a>\u001b[0m optimizer \u001b[39m=\u001b[39m optim\u001b[39m.\u001b[39mAdam(model\u001b[39m.\u001b[39mparameters(), lr \u001b[39m=\u001b[39m \u001b[39m0.0003\u001b[39m, betas \u001b[39m=\u001b[39m [\u001b[39m0.9\u001b[39m, \u001b[39m0.99\u001b[39m], weight_decay \u001b[39m=\u001b[39m \u001b[39m1e-6\u001b[39m)\n\u001b[1;32m      <a href='vscode-notebook-cell:/home/ahmadreza/AI/git/rep7/vision%20code.ipynb#Y114sZmlsZQ%3D%3D?line=1'>2</a>\u001b[0m loss_func \u001b[39m=\u001b[39m nn\u001b[39m.\u001b[39mCrossEntropyLoss()\n",
      "\u001b[0;31mNameError\u001b[0m: name 'optim' is not defined"
     ]
    }
   ],
   "source": [
    "optimizer = optim.Adam(model.parameters(), lr = 0.0003, betas = [0.9, 0.99], weight_decay = 1e-6)\n",
    "loss_func = nn.CrossEntropyLoss()"
   ]
  },
  {
   "cell_type": "code",
   "execution_count": null,
   "metadata": {},
   "outputs": [],
   "source": [
    "loss_train_hist, acc_train_hist = [], []\n",
    "loss_valid_hist, acc_valid_hist = [], []"
   ]
  },
  {
   "cell_type": "code",
   "execution_count": null,
   "metadata": {},
   "outputs": [
    {
     "name": "stderr",
     "output_type": "stream",
     "text": [
      "Epoch=0: 100%|██████████| 10/10 [00:12<00:00,  1.26s/batch, accuracy=31.3, loss=tensor(1.5730, grad_fn=<DivBackward0>)]\n"
     ]
    },
    {
     "name": "stdout",
     "output_type": "stream",
     "text": [
      "loss=1.216, accuracy=0.8182\n",
      "\n",
      "model saved!\n"
     ]
    },
    {
     "name": "stderr",
     "output_type": "stream",
     "text": [
      "Epoch=1: 100%|██████████| 10/10 [00:12<00:00,  1.22s/batch, accuracy=76.1, loss=tensor(1.2818, grad_fn=<DivBackward0>)]\n"
     ]
    },
    {
     "name": "stdout",
     "output_type": "stream",
     "text": [
      "loss=0.9664, accuracy=0.8485\n",
      "\n",
      "model saved!\n"
     ]
    },
    {
     "name": "stderr",
     "output_type": "stream",
     "text": [
      "Epoch=2: 100%|██████████| 10/10 [00:12<00:00,  1.22s/batch, accuracy=77.1, loss=tensor(1.0815, grad_fn=<DivBackward0>)]\n"
     ]
    },
    {
     "name": "stdout",
     "output_type": "stream",
     "text": [
      "loss=0.7823, accuracy=0.8182\n",
      "\n",
      "model saved!\n"
     ]
    },
    {
     "name": "stderr",
     "output_type": "stream",
     "text": [
      "Epoch=3: 100%|██████████| 10/10 [00:12<00:00,  1.20s/batch, accuracy=76.1, loss=tensor(0.9418, grad_fn=<DivBackward0>)]\n"
     ]
    },
    {
     "name": "stdout",
     "output_type": "stream",
     "text": [
      "loss=0.6958, accuracy=0.8182\n",
      "\n",
      "model saved!\n"
     ]
    },
    {
     "name": "stderr",
     "output_type": "stream",
     "text": [
      "Epoch=4: 100%|██████████| 10/10 [00:13<00:00,  1.38s/batch, accuracy=76.1, loss=tensor(0.8477, grad_fn=<DivBackward0>)]\n"
     ]
    },
    {
     "name": "stdout",
     "output_type": "stream",
     "text": [
      "loss=0.5919, accuracy=0.8182\n",
      "\n",
      "model saved!\n"
     ]
    },
    {
     "name": "stderr",
     "output_type": "stream",
     "text": [
      "Epoch=5: 100%|██████████| 10/10 [00:12<00:00,  1.26s/batch, accuracy=77.1, loss=tensor(0.7885, grad_fn=<DivBackward0>)]\n"
     ]
    },
    {
     "name": "stdout",
     "output_type": "stream",
     "text": [
      "loss=0.5267, accuracy=0.8182\n",
      "\n",
      "model saved!\n"
     ]
    },
    {
     "name": "stderr",
     "output_type": "stream",
     "text": [
      "Epoch=6: 100%|██████████| 10/10 [00:11<00:00,  1.19s/batch, accuracy=77.1, loss=tensor(0.7492, grad_fn=<DivBackward0>)]\n"
     ]
    },
    {
     "name": "stdout",
     "output_type": "stream",
     "text": [
      "loss=0.4999, accuracy=0.8182\n",
      "\n",
      "model saved!\n"
     ]
    },
    {
     "name": "stderr",
     "output_type": "stream",
     "text": [
      "Epoch=7: 100%|██████████| 10/10 [00:12<00:00,  1.29s/batch, accuracy=77.4, loss=tensor(0.7202, grad_fn=<DivBackward0>)]\n"
     ]
    },
    {
     "name": "stdout",
     "output_type": "stream",
     "text": [
      "loss=0.4975, accuracy=0.8485\n",
      "\n",
      "model saved!\n"
     ]
    },
    {
     "name": "stderr",
     "output_type": "stream",
     "text": [
      "Epoch=8: 100%|██████████| 10/10 [00:12<00:00,  1.24s/batch, accuracy=78.8, loss=tensor(0.6997, grad_fn=<DivBackward0>)]\n"
     ]
    },
    {
     "name": "stdout",
     "output_type": "stream",
     "text": [
      "loss=0.4942, accuracy=0.8485\n",
      "\n",
      "model saved!\n"
     ]
    },
    {
     "name": "stderr",
     "output_type": "stream",
     "text": [
      "Epoch=9: 100%|██████████| 10/10 [00:12<00:00,  1.21s/batch, accuracy=79.5, loss=tensor(0.6792, grad_fn=<DivBackward0>)]\n"
     ]
    },
    {
     "name": "stdout",
     "output_type": "stream",
     "text": [
      "loss=0.4822, accuracy=0.8182\n",
      "\n",
      "model saved!\n"
     ]
    },
    {
     "name": "stderr",
     "output_type": "stream",
     "text": [
      "Epoch=10: 100%|██████████| 10/10 [00:12<00:00,  1.24s/batch, accuracy=79.8, loss=tensor(0.6677, grad_fn=<DivBackward0>)]\n"
     ]
    },
    {
     "name": "stdout",
     "output_type": "stream",
     "text": [
      "loss=0.4762, accuracy=0.8788\n",
      "\n",
      "model saved!\n"
     ]
    },
    {
     "name": "stderr",
     "output_type": "stream",
     "text": [
      "Epoch=11: 100%|██████████| 10/10 [00:12<00:00,  1.27s/batch, accuracy=81.1, loss=tensor(0.6525, grad_fn=<DivBackward0>)]\n"
     ]
    },
    {
     "name": "stdout",
     "output_type": "stream",
     "text": [
      "loss=0.4776, accuracy=0.8788\n",
      "\n"
     ]
    },
    {
     "name": "stderr",
     "output_type": "stream",
     "text": [
      "Epoch=12: 100%|██████████| 10/10 [00:12<00:00,  1.25s/batch, accuracy=81.5, loss=tensor(0.6383, grad_fn=<DivBackward0>)]\n"
     ]
    },
    {
     "name": "stdout",
     "output_type": "stream",
     "text": [
      "loss=0.4732, accuracy=0.8788\n",
      "\n",
      "model saved!\n"
     ]
    },
    {
     "name": "stderr",
     "output_type": "stream",
     "text": [
      "Epoch=13: 100%|██████████| 10/10 [00:14<00:00,  1.47s/batch, accuracy=81.8, loss=tensor(0.6297, grad_fn=<DivBackward0>)]\n"
     ]
    },
    {
     "name": "stdout",
     "output_type": "stream",
     "text": [
      "loss=0.4736, accuracy=0.8788\n",
      "\n"
     ]
    },
    {
     "name": "stderr",
     "output_type": "stream",
     "text": [
      "Epoch=14: 100%|██████████| 10/10 [00:12<00:00,  1.28s/batch, accuracy=82.5, loss=tensor(0.6177, grad_fn=<DivBackward0>)]\n"
     ]
    },
    {
     "name": "stdout",
     "output_type": "stream",
     "text": [
      "loss=0.4692, accuracy=0.8788\n",
      "\n",
      "model saved!\n"
     ]
    },
    {
     "name": "stderr",
     "output_type": "stream",
     "text": [
      "Epoch=15: 100%|██████████| 10/10 [00:12<00:00,  1.26s/batch, accuracy=82.5, loss=tensor(0.6085, grad_fn=<DivBackward0>)]\n"
     ]
    },
    {
     "name": "stdout",
     "output_type": "stream",
     "text": [
      "loss=0.4831, accuracy=0.8788\n",
      "\n"
     ]
    },
    {
     "name": "stderr",
     "output_type": "stream",
     "text": [
      "Epoch=16: 100%|██████████| 10/10 [00:12<00:00,  1.23s/batch, accuracy=82.8, loss=tensor(0.6035, grad_fn=<DivBackward0>)]\n"
     ]
    },
    {
     "name": "stdout",
     "output_type": "stream",
     "text": [
      "loss=0.4828, accuracy=0.8788\n",
      "\n"
     ]
    },
    {
     "name": "stderr",
     "output_type": "stream",
     "text": [
      "Epoch=17: 100%|██████████| 10/10 [00:11<00:00,  1.19s/batch, accuracy=82.8, loss=tensor(0.5921, grad_fn=<DivBackward0>)]\n"
     ]
    },
    {
     "name": "stdout",
     "output_type": "stream",
     "text": [
      "loss=0.479, accuracy=0.8788\n",
      "\n"
     ]
    },
    {
     "name": "stderr",
     "output_type": "stream",
     "text": [
      "Epoch=18: 100%|██████████| 10/10 [00:12<00:00,  1.23s/batch, accuracy=82.8, loss=tensor(0.5874, grad_fn=<DivBackward0>)]\n"
     ]
    },
    {
     "name": "stdout",
     "output_type": "stream",
     "text": [
      "loss=0.4823, accuracy=0.8788\n",
      "\n"
     ]
    },
    {
     "name": "stderr",
     "output_type": "stream",
     "text": [
      "Epoch=19: 100%|██████████| 10/10 [00:11<00:00,  1.20s/batch, accuracy=82.8, loss=tensor(0.5822, grad_fn=<DivBackward0>)]\n"
     ]
    },
    {
     "name": "stdout",
     "output_type": "stream",
     "text": [
      "loss=0.4895, accuracy=0.9091\n",
      "\n"
     ]
    }
   ],
   "source": [
    "N=20\n",
    "\n",
    "acc_train_hist,loss_train_hist=[],[]\n",
    "acc_valid_hist,loss_valid_hist=[],[]\n",
    "\n",
    "best_loss = tc.inf\n",
    "best_model = [0]\n",
    "\n",
    "for epoch in range(N):\n",
    "\n",
    "  model,train_loss,train_acc=train_one_epoch(model, cnn_train_loader, numerical_train_loader, loss_func, optimizer, epoch)\n",
    "  valid_loss,valid_acc=validation(model, cnn_valid_loader, numerical_valid_loader, loss_func)\n",
    "\n",
    "  acc_train_hist.append(train_acc)\n",
    "  loss_train_hist.append(train_loss)\n",
    "\n",
    "  acc_valid_hist.append(valid_acc)\n",
    "  loss_valid_hist.append(valid_loss)\n",
    "\n",
    "  if valid_loss<best_loss:\n",
    "    best_model[0] = model \n",
    "    best_loss = valid_loss\n",
    "    print('model saved!')"
   ]
  },
  {
   "cell_type": "code",
   "execution_count": null,
   "metadata": {},
   "outputs": [
    {
     "data": {
      "image/png": "[encoded data removed]",
      "text/plain": [
       "<Figure size 432x288 with 1 Axes>"
      ]
     },
     "metadata": {
      "needs_background": "light"
     },
     "output_type": "display_data"
    }
   ],
   "source": [
    "plt.plot(range(N), loss_train_hist, label = 'train loss')\n",
    "plt.plot(range(N), loss_valid_hist, label = 'valid loss')\n",
    "plt.xlabel('Epoch')\n",
    "plt.ylabel('Loss')\n",
    "plt.legend()\n",
    "plt.xticks(np.arange(1, N))\n",
    "plt.grid()\n",
    "plt.show()"
   ]
  },
  {
   "cell_type": "code",
   "execution_count": null,
   "metadata": {},
   "outputs": [
    {
     "data": {
      "image/png": "[encoded data removed]",
      "text/plain": [
       "<Figure size 432x288 with 1 Axes>"
      ]
     },
     "metadata": {
      "needs_background": "light"
     },
     "output_type": "display_data"
    }
   ],
   "source": [
    "plt.plot(range(N), acc_train_hist, label = 'train accuracy')\n",
    "plt.plot(range(N), acc_valid_hist, label = 'valid accuracy')\n",
    "plt.xlabel('Epoch')\n",
    "plt.ylabel('Accuracy')\n",
    "plt.legend()\n",
    "plt.xticks(np.arange(1, N))\n",
    "plt.grid()\n",
    "plt.show()"
   ]
  },
  {
   "cell_type": "code",
   "execution_count": null,
   "metadata": {},
   "outputs": [
    {
     "data": {
      "text/plain": [
       "tensor(0.5589, grad_fn=<NllLossBackward0>)"
      ]
     },
     "execution_count": 203,
     "metadata": {},
     "output_type": "execute_result"
    }
   ],
   "source": [
    "nn.CrossEntropyLoss()(model(cnn_valid, numerical_valid), yvalid)"
   ]
  },
  {
   "cell_type": "code",
   "execution_count": null,
   "metadata": {},
   "outputs": [],
   "source": [
    "#part 2"
   ]
  },
  {
   "cell_type": "code",
   "execution_count": 303,
   "metadata": {},
   "outputs": [],
   "source": [
    "class CNNModel(nn.Module):\n",
    "\n",
    "    def __init__(self, num_filters, kernel_size, num_out_reg, num_classes):\n",
    "        super().__init__()\n",
    "\n",
    "        self.conv1 = nn.LazyConv2d(num_filters[0], kernel_size[0], stride = 1, padding = 1, bias = True)\n",
    "        self.bn1 = nn.BatchNorm2d(num_filters[0])\n",
    "\n",
    "        self.conv2 = nn.LazyConv2d(num_filters[1], kernel_size[1], stride = 1, padding = 1, bias = True)\n",
    "        self.bn2 = nn.BatchNorm2d(num_filters[1])\n",
    "\n",
    "        self.conv3 = nn.LazyConv2d(num_filters[1], kernel_size[1], stride = 1, padding = 1, bias = True)\n",
    "        self.bn3 = nn.BatchNorm2d(num_filters[1])\n",
    "\n",
    "        self.mpool = nn.MaxPool2d(2, 2)\n",
    "        self.apool = nn.AdaptiveAvgPool2d(output_size=(1, 1))\n",
    "\n",
    "        self.fc = nn.LazyLinear(num_classes)\n",
    "        self.fcv = nn.LazyLinear(num_out_reg)\n",
    "        self.seq = nn.Sequential(nn.LazyLinear(4), nn.LeakyReLU(), nn.LazyLinear(4), nn.LazyLinear(4), nn.ReLU(), nn.LazyLinear(num_out_reg))\n",
    "\n",
    "    def forward(self, cnn_data):\n",
    "\n",
    "        y = self.bn1(self.conv1(cnn_data)).relu()\n",
    "        y = self.mpool(y)\n",
    "        y = self.bn2(self.conv2(y)).relu()\n",
    "\n",
    "        y = self.apool(y)\n",
    "\n",
    "        y = y.flatten(1)\n",
    "\n",
    "        y_class = self.fc(y)\n",
    "\n",
    "        y = self.bn3(self.conv3(cnn_data))\n",
    "\n",
    "        y = y.flatten(1)\n",
    "\n",
    "        y_reg = self.seq(y)\n",
    "\n",
    "        return y_reg, y_class"
   ]
  },
  {
   "cell_type": "code",
   "execution_count": 304,
   "metadata": {},
   "outputs": [],
   "source": [
    "device = 'cpu' if tc.cuda.is_available() else 'cpu'"
   ]
  },
  {
   "cell_type": "code",
   "execution_count": 305,
   "metadata": {},
   "outputs": [],
   "source": [
    "model = CNNModel([16, 16], [3, 3], 4, 5)"
   ]
  },
  {
   "cell_type": "code",
   "execution_count": 306,
   "metadata": {},
   "outputs": [],
   "source": [
    "y_reg, y_class = model(cnn_train)"
   ]
  },
  {
   "cell_type": "code",
   "execution_count": 307,
   "metadata": {},
   "outputs": [
    {
     "data": {
      "text/plain": [
       "torch.Size([148, 4])"
      ]
     },
     "execution_count": 307,
     "metadata": {},
     "output_type": "execute_result"
    }
   ],
   "source": [
    "y_reg.shape"
   ]
  },
  {
   "cell_type": "code",
   "execution_count": 308,
   "metadata": {},
   "outputs": [
    {
     "data": {
      "text/plain": [
       "torch.Size([148, 5])"
      ]
     },
     "execution_count": 308,
     "metadata": {},
     "output_type": "execute_result"
    }
   ],
   "source": [
    "y_class.shape"
   ]
  },
  {
   "cell_type": "code",
   "execution_count": 326,
   "metadata": {},
   "outputs": [],
   "source": [
    "def train_one_epoch(model, cnn_train_loader, loss_func_reg, loss_func_class, optimizer, epoch):\n",
    "    model.train()\n",
    "\n",
    "    train_loss_reg = AverageMeter()\n",
    "    train_loss_class = AverageMeter()\n",
    "    train_acc_class = Accuracy(task = 'multiclass', num_classes=5).to(device)\n",
    "\n",
    "    with tqdm(cnn_train_loader, unit = 'batch') as tepoch:\n",
    "        \n",
    "        i = 0\n",
    "\n",
    "        for xc, yc in tepoch:\n",
    "            if epoch is not None:\n",
    "                tepoch.set_description(f'Epoch={epoch}')\n",
    "            xn, yn = num_choose(i, numerical_train_loader)\n",
    "            i +=1\n",
    "\n",
    "            xn = xn.to(device)\n",
    "            xc = xc.to(device)\n",
    "\n",
    "            yn = yn.to(device)\n",
    "\n",
    "            y_reg, y_class = model(xc)\n",
    "            loss_reg = loss_func_reg(y_reg, xn)\n",
    "            loss_class = loss_func_class(y_class, yn)\n",
    "\n",
    "            loss_reg.backward(retain_graph=True)\n",
    "            loss_class.backward()\n",
    "\n",
    "            optimizer.step()\n",
    "            optimizer.zero_grad()\n",
    "\n",
    "            train_loss_reg.update(loss_reg.item())\n",
    "            train_loss_class.update(loss_class.item())\n",
    "\n",
    "            train_acc_class(y_class, yn)\n",
    "\n",
    "            reg_loss = train_loss_reg.avg\n",
    "            class_loss = train_loss_class.avg\n",
    "\n",
    "            tepoch.set_postfix(loss_reg = reg_loss,\n",
    "                                loss_class = class_loss,\n",
    "                                loss = (reg_loss + class_loss))\n",
    "\n",
    "        return model, train_loss_reg.avg, train_loss_class.avg"
   ]
  },
  {
   "cell_type": "code",
   "execution_count": 327,
   "metadata": {},
   "outputs": [],
   "source": [
    "def validation(model, cnn_valid_loader, loss_func_reg, loss_func_class):\n",
    "    model.eval()\n",
    "\n",
    "    valid_loss_reg = AverageMeter()\n",
    "    valid_loss_class = AverageMeter()\n",
    "    valid_acc_class = Accuracy(task = 'multiclass', num_classes=5)\n",
    "    \n",
    "    i = 0\n",
    "    for xc, yc in cnn_valid_loader:\n",
    "        \n",
    "        xn, yn = num_choose(i, numerical_valid_loader)\n",
    "        i += 1\n",
    "\n",
    "        xn = xn.to(device)\n",
    "        xc = xc.to(device)\n",
    "\n",
    "        yn = yn.to(device)\n",
    "\n",
    "        y_reg, y_class = model(xc)\n",
    "        loss_reg = loss_func_reg(y_reg, xn)\n",
    "        loss_class = loss_func_class(y_class, yn)\n",
    "\n",
    "        valid_loss_reg.update(loss_reg.item())\n",
    "        valid_loss_class.update(loss_class.item())\n",
    "\n",
    "        valid_acc_class(y_class, yn)\n",
    "\n",
    "        reg_loss = valid_loss_reg.avg\n",
    "        class_loss = valid_loss_class.avg\n",
    "        total_loss = reg_loss + class_loss\n",
    "\n",
    "    print(f'regression loss={reg_loss}, classification loss={class_loss}, Loss(total)={total_loss}')\n",
    "\n",
    "\n",
    "    return valid_loss_reg.avg, valid_loss_class.avg"
   ]
  },
  {
   "cell_type": "code",
   "execution_count": 328,
   "metadata": {},
   "outputs": [
    {
     "name": "stderr",
     "output_type": "stream",
     "text": [
      "/home/ahmadreza/anaconda3/lib/python3.9/site-packages/torch/nn/modules/lazy.py:180: UserWarning: Lazy modules are a new feature under heavy development so changes to the API or functionality can happen at any moment.\n",
      "  warnings.warn('Lazy modules are a new feature under heavy development '\n"
     ]
    }
   ],
   "source": [
    "model = CNNModel([8, 8], [3, 3], 4, 5).to(device)"
   ]
  },
  {
   "cell_type": "code",
   "execution_count": 329,
   "metadata": {},
   "outputs": [],
   "source": [
    "optimizer = optim.Adam(model.parameters(), lr = 0.001, betas=[0.9, 0.99])\n",
    "loss_func_reg = nn.HuberLoss()\n",
    "loss_func_class = nn.CrossEntropyLoss()"
   ]
  },
  {
   "cell_type": "code",
   "execution_count": 330,
   "metadata": {},
   "outputs": [
    {
     "name": "stderr",
     "output_type": "stream",
     "text": [
      "Epoch=0: 100%|██████████| 5/5 [00:03<00:00,  1.42batch/s, loss=1.89, loss_class=1.42, loss_reg=0.468]\n",
      "Epoch=1: 100%|██████████| 5/5 [00:02<00:00,  1.78batch/s, loss=1.78, loss_class=1.37, loss_reg=0.405]\n",
      "Epoch=2: 100%|██████████| 5/5 [00:02<00:00,  1.72batch/s, loss=1.74, loss_class=1.34, loss_reg=0.404]\n",
      "Epoch=3: 100%|██████████| 5/5 [00:03<00:00,  1.63batch/s, loss=1.71, loss_class=1.31, loss_reg=0.402]\n",
      "Epoch=4: 100%|██████████| 5/5 [00:03<00:00,  1.60batch/s, loss=1.69, loss_class=1.29, loss_reg=0.401]\n",
      "Epoch=5:   0%|          | 0/5 [00:00<?, ?batch/s]\n"
     ]
    },
    {
     "ename": "KeyboardInterrupt",
     "evalue": "",
     "output_type": "error",
     "traceback": [
      "\u001b[0;31m---------------------------------------------------------------------------\u001b[0m",
      "\u001b[0;31mKeyboardInterrupt\u001b[0m                         Traceback (most recent call last)",
      "\u001b[1;32m/home/ahmadreza/AI/git/rep7/vision code.ipynb Cell 79\u001b[0m in \u001b[0;36m<cell line: 1>\u001b[0;34m()\u001b[0m\n\u001b[1;32m      <a href='vscode-notebook-cell:/home/ahmadreza/AI/git/rep7/vision%20code.ipynb#Y141sZmlsZQ%3D%3D?line=0'>1</a>\u001b[0m \u001b[39mfor\u001b[39;00m i \u001b[39min\u001b[39;00m \u001b[39mrange\u001b[39m(\u001b[39m100\u001b[39m):\n\u001b[0;32m----> <a href='vscode-notebook-cell:/home/ahmadreza/AI/git/rep7/vision%20code.ipynb#Y141sZmlsZQ%3D%3D?line=1'>2</a>\u001b[0m     model, _, _ \u001b[39m=\u001b[39m train_one_epoch(model, cnn_train_loader, loss_func_reg, loss_func_class, optimizer, i)\n",
      "\u001b[1;32m/home/ahmadreza/AI/git/rep7/vision code.ipynb Cell 79\u001b[0m in \u001b[0;36mtrain_one_epoch\u001b[0;34m(model, cnn_train_loader, loss_func_reg, loss_func_class, optimizer, epoch)\u001b[0m\n\u001b[1;32m     <a href='vscode-notebook-cell:/home/ahmadreza/AI/git/rep7/vision%20code.ipynb#Y141sZmlsZQ%3D%3D?line=18'>19</a>\u001b[0m xc \u001b[39m=\u001b[39m xc\u001b[39m.\u001b[39mto(device)\n\u001b[1;32m     <a href='vscode-notebook-cell:/home/ahmadreza/AI/git/rep7/vision%20code.ipynb#Y141sZmlsZQ%3D%3D?line=20'>21</a>\u001b[0m yn \u001b[39m=\u001b[39m yn\u001b[39m.\u001b[39mto(device)\n\u001b[0;32m---> <a href='vscode-notebook-cell:/home/ahmadreza/AI/git/rep7/vision%20code.ipynb#Y141sZmlsZQ%3D%3D?line=22'>23</a>\u001b[0m y_reg, y_class \u001b[39m=\u001b[39m model(xc)\n\u001b[1;32m     <a href='vscode-notebook-cell:/home/ahmadreza/AI/git/rep7/vision%20code.ipynb#Y141sZmlsZQ%3D%3D?line=23'>24</a>\u001b[0m loss_reg \u001b[39m=\u001b[39m loss_func_reg(y_reg, xn)\n\u001b[1;32m     <a href='vscode-notebook-cell:/home/ahmadreza/AI/git/rep7/vision%20code.ipynb#Y141sZmlsZQ%3D%3D?line=24'>25</a>\u001b[0m loss_class \u001b[39m=\u001b[39m loss_func_class(y_class, yn)\n",
      "File \u001b[0;32m~/anaconda3/lib/python3.9/site-packages/torch/nn/modules/module.py:1194\u001b[0m, in \u001b[0;36mModule._call_impl\u001b[0;34m(self, *input, **kwargs)\u001b[0m\n\u001b[1;32m   1190\u001b[0m \u001b[39m# If we don't have any hooks, we want to skip the rest of the logic in\u001b[39;00m\n\u001b[1;32m   1191\u001b[0m \u001b[39m# this function, and just call forward.\u001b[39;00m\n\u001b[1;32m   1192\u001b[0m \u001b[39mif\u001b[39;00m \u001b[39mnot\u001b[39;00m (\u001b[39mself\u001b[39m\u001b[39m.\u001b[39m_backward_hooks \u001b[39mor\u001b[39;00m \u001b[39mself\u001b[39m\u001b[39m.\u001b[39m_forward_hooks \u001b[39mor\u001b[39;00m \u001b[39mself\u001b[39m\u001b[39m.\u001b[39m_forward_pre_hooks \u001b[39mor\u001b[39;00m _global_backward_hooks\n\u001b[1;32m   1193\u001b[0m         \u001b[39mor\u001b[39;00m _global_forward_hooks \u001b[39mor\u001b[39;00m _global_forward_pre_hooks):\n\u001b[0;32m-> 1194\u001b[0m     \u001b[39mreturn\u001b[39;00m forward_call(\u001b[39m*\u001b[39;49m\u001b[39minput\u001b[39;49m, \u001b[39m*\u001b[39;49m\u001b[39m*\u001b[39;49mkwargs)\n\u001b[1;32m   1195\u001b[0m \u001b[39m# Do not call functions when jit is used\u001b[39;00m\n\u001b[1;32m   1196\u001b[0m full_backward_hooks, non_full_backward_hooks \u001b[39m=\u001b[39m [], []\n",
      "\u001b[1;32m/home/ahmadreza/AI/git/rep7/vision code.ipynb Cell 79\u001b[0m in \u001b[0;36mCNNModel.forward\u001b[0;34m(self, cnn_data)\u001b[0m\n\u001b[1;32m     <a href='vscode-notebook-cell:/home/ahmadreza/AI/git/rep7/vision%20code.ipynb#Y141sZmlsZQ%3D%3D?line=24'>25</a>\u001b[0m y \u001b[39m=\u001b[39m \u001b[39mself\u001b[39m\u001b[39m.\u001b[39mmpool(y)\n\u001b[1;32m     <a href='vscode-notebook-cell:/home/ahmadreza/AI/git/rep7/vision%20code.ipynb#Y141sZmlsZQ%3D%3D?line=25'>26</a>\u001b[0m y \u001b[39m=\u001b[39m \u001b[39mself\u001b[39m\u001b[39m.\u001b[39mbn2(\u001b[39mself\u001b[39m\u001b[39m.\u001b[39mconv2(y))\u001b[39m.\u001b[39mrelu()\n\u001b[0;32m---> <a href='vscode-notebook-cell:/home/ahmadreza/AI/git/rep7/vision%20code.ipynb#Y141sZmlsZQ%3D%3D?line=27'>28</a>\u001b[0m y \u001b[39m=\u001b[39m \u001b[39mself\u001b[39;49m\u001b[39m.\u001b[39;49mapool(y)\n\u001b[1;32m     <a href='vscode-notebook-cell:/home/ahmadreza/AI/git/rep7/vision%20code.ipynb#Y141sZmlsZQ%3D%3D?line=29'>30</a>\u001b[0m y \u001b[39m=\u001b[39m y\u001b[39m.\u001b[39mflatten(\u001b[39m1\u001b[39m)\n\u001b[1;32m     <a href='vscode-notebook-cell:/home/ahmadreza/AI/git/rep7/vision%20code.ipynb#Y141sZmlsZQ%3D%3D?line=31'>32</a>\u001b[0m y_class \u001b[39m=\u001b[39m \u001b[39mself\u001b[39m\u001b[39m.\u001b[39mfc(y)\n",
      "File \u001b[0;32m~/anaconda3/lib/python3.9/site-packages/torch/nn/modules/module.py:1194\u001b[0m, in \u001b[0;36mModule._call_impl\u001b[0;34m(self, *input, **kwargs)\u001b[0m\n\u001b[1;32m   1190\u001b[0m \u001b[39m# If we don't have any hooks, we want to skip the rest of the logic in\u001b[39;00m\n\u001b[1;32m   1191\u001b[0m \u001b[39m# this function, and just call forward.\u001b[39;00m\n\u001b[1;32m   1192\u001b[0m \u001b[39mif\u001b[39;00m \u001b[39mnot\u001b[39;00m (\u001b[39mself\u001b[39m\u001b[39m.\u001b[39m_backward_hooks \u001b[39mor\u001b[39;00m \u001b[39mself\u001b[39m\u001b[39m.\u001b[39m_forward_hooks \u001b[39mor\u001b[39;00m \u001b[39mself\u001b[39m\u001b[39m.\u001b[39m_forward_pre_hooks \u001b[39mor\u001b[39;00m _global_backward_hooks\n\u001b[1;32m   1193\u001b[0m         \u001b[39mor\u001b[39;00m _global_forward_hooks \u001b[39mor\u001b[39;00m _global_forward_pre_hooks):\n\u001b[0;32m-> 1194\u001b[0m     \u001b[39mreturn\u001b[39;00m forward_call(\u001b[39m*\u001b[39;49m\u001b[39minput\u001b[39;49m, \u001b[39m*\u001b[39;49m\u001b[39m*\u001b[39;49mkwargs)\n\u001b[1;32m   1195\u001b[0m \u001b[39m# Do not call functions when jit is used\u001b[39;00m\n\u001b[1;32m   1196\u001b[0m full_backward_hooks, non_full_backward_hooks \u001b[39m=\u001b[39m [], []\n",
      "File \u001b[0;32m~/anaconda3/lib/python3.9/site-packages/torch/nn/modules/pooling.py:1184\u001b[0m, in \u001b[0;36mAdaptiveAvgPool2d.forward\u001b[0;34m(self, input)\u001b[0m\n\u001b[1;32m   1183\u001b[0m \u001b[39mdef\u001b[39;00m \u001b[39mforward\u001b[39m(\u001b[39mself\u001b[39m, \u001b[39minput\u001b[39m: Tensor) \u001b[39m-\u001b[39m\u001b[39m>\u001b[39m Tensor:\n\u001b[0;32m-> 1184\u001b[0m     \u001b[39mreturn\u001b[39;00m F\u001b[39m.\u001b[39;49madaptive_avg_pool2d(\u001b[39minput\u001b[39;49m, \u001b[39mself\u001b[39;49m\u001b[39m.\u001b[39;49moutput_size)\n",
      "File \u001b[0;32m~/anaconda3/lib/python3.9/site-packages/torch/nn/functional.py:1214\u001b[0m, in \u001b[0;36madaptive_avg_pool2d\u001b[0;34m(input, output_size)\u001b[0m\n\u001b[1;32m   1212\u001b[0m     \u001b[39mreturn\u001b[39;00m handle_torch_function(adaptive_avg_pool2d, (\u001b[39minput\u001b[39m,), \u001b[39minput\u001b[39m, output_size)\n\u001b[1;32m   1213\u001b[0m _output_size \u001b[39m=\u001b[39m _list_with_default(output_size, \u001b[39minput\u001b[39m\u001b[39m.\u001b[39msize())\n\u001b[0;32m-> 1214\u001b[0m \u001b[39mreturn\u001b[39;00m torch\u001b[39m.\u001b[39;49m_C\u001b[39m.\u001b[39;49m_nn\u001b[39m.\u001b[39;49madaptive_avg_pool2d(\u001b[39minput\u001b[39;49m, _output_size)\n",
      "\u001b[0;31mKeyboardInterrupt\u001b[0m: "
     ]
    }
   ],
   "source": [
    "for i in range(100):\n",
    "    model, _, _ = train_one_epoch(model, cnn_train_loader, loss_func_reg, loss_func_class, optimizer, i)"
   ]
  },
  {
   "cell_type": "code",
   "execution_count": 179,
   "metadata": {},
   "outputs": [
    {
     "name": "stdout",
     "output_type": "stream",
     "text": [
      "regression loss=23.772396087646484, classification loss=0.7540874481201172, Loss(total)=24.5264835357666\n"
     ]
    },
    {
     "data": {
      "text/plain": [
       "(23.772396087646484, 0.7540874481201172)"
      ]
     },
     "execution_count": 179,
     "metadata": {},
     "output_type": "execute_result"
    }
   ],
   "source": [
    "validation(model, cnn_valid_loader, loss_func_reg, loss_func_class)"
   ]
  },
  {
   "cell_type": "code",
   "execution_count": 344,
   "metadata": {},
   "outputs": [],
   "source": [
    "model = CNNModel([8, 8], [3, 3], 4, 5).to(device)"
   ]
  },
  {
   "cell_type": "code",
   "execution_count": 345,
   "metadata": {},
   "outputs": [],
   "source": [
    "optimizer = optim.Adam(model.parameters(), lr = 0.01, betas=[0.9, 0.99], weight_decay=1e-4)\n",
    "loss_func_reg = nn.HuberLoss()\n",
    "loss_func_class = nn.CrossEntropyLoss()"
   ]
  },
  {
   "cell_type": "code",
   "execution_count": 346,
   "metadata": {},
   "outputs": [
    {
     "name": "stderr",
     "output_type": "stream",
     "text": [
      "Epoch=0: 100%|██████████| 5/5 [00:03<00:00,  1.51batch/s, loss=15.6, loss_class=1.24, loss_reg=14.4] \n"
     ]
    },
    {
     "name": "stdout",
     "output_type": "stream",
     "text": [
      "regression loss=4.006131172180176, classification loss=0.8750192721684774, Loss(total)=4.881150444348653\n",
      "model saved!\n"
     ]
    },
    {
     "name": "stderr",
     "output_type": "stream",
     "text": [
      "Epoch=1: 100%|██████████| 5/5 [00:02<00:00,  1.83batch/s, loss=6.91, loss_class=1.06, loss_reg=5.85]\n"
     ]
    },
    {
     "name": "stdout",
     "output_type": "stream",
     "text": [
      "regression loss=8.043414115905762, classification loss=0.6839408477147421, Loss(total)=8.727354963620504\n"
     ]
    },
    {
     "name": "stderr",
     "output_type": "stream",
     "text": [
      "Epoch=2: 100%|██████████| 5/5 [00:02<00:00,  1.76batch/s, loss=4.16, loss_class=0.929, loss_reg=3.23]\n"
     ]
    },
    {
     "name": "stdout",
     "output_type": "stream",
     "text": [
      "regression loss=1.604815701643626, classification loss=0.6198665698369344, Loss(total)=2.2246822714805603\n",
      "model saved!\n"
     ]
    },
    {
     "name": "stderr",
     "output_type": "stream",
     "text": [
      "Epoch=3: 100%|██████████| 5/5 [00:02<00:00,  1.81batch/s, loss=1.57, loss_class=0.858, loss_reg=0.709]\n"
     ]
    },
    {
     "name": "stdout",
     "output_type": "stream",
     "text": [
      "regression loss=0.6299732526143392, classification loss=0.5424610177675883, Loss(total)=1.1724342703819275\n",
      "model saved!\n"
     ]
    },
    {
     "name": "stderr",
     "output_type": "stream",
     "text": [
      "Epoch=4: 100%|██████████| 5/5 [00:02<00:00,  1.84batch/s, loss=1.3, loss_class=0.824, loss_reg=0.472] \n"
     ]
    },
    {
     "name": "stdout",
     "output_type": "stream",
     "text": [
      "regression loss=0.5607215265432993, classification loss=0.4601915975411733, Loss(total)=1.0209131240844727\n",
      "model saved!\n"
     ]
    },
    {
     "name": "stderr",
     "output_type": "stream",
     "text": [
      "Epoch=5: 100%|██████████| 5/5 [00:02<00:00,  1.88batch/s, loss=1.26, loss_class=0.804, loss_reg=0.453]\n"
     ]
    },
    {
     "name": "stdout",
     "output_type": "stream",
     "text": [
      "regression loss=0.5445126891136169, classification loss=0.44380231698354083, Loss(total)=0.9883150060971577\n",
      "model saved!\n"
     ]
    },
    {
     "name": "stderr",
     "output_type": "stream",
     "text": [
      "Epoch=6: 100%|██████████| 5/5 [00:02<00:00,  1.75batch/s, loss=1.24, loss_class=0.79, loss_reg=0.447] \n"
     ]
    },
    {
     "name": "stdout",
     "output_type": "stream",
     "text": [
      "regression loss=0.5255941450595856, classification loss=0.4419759015242259, Loss(total)=0.9675700465838115\n",
      "model saved!\n"
     ]
    },
    {
     "name": "stderr",
     "output_type": "stream",
     "text": [
      "Epoch=7: 100%|██████████| 5/5 [00:02<00:00,  1.87batch/s, loss=1.22, loss_class=0.779, loss_reg=0.441]\n"
     ]
    },
    {
     "name": "stdout",
     "output_type": "stream",
     "text": [
      "regression loss=0.41218849023183185, classification loss=0.4233596722284953, Loss(total)=0.8355481624603271\n",
      "model saved!\n"
     ]
    },
    {
     "name": "stderr",
     "output_type": "stream",
     "text": [
      "Epoch=8: 100%|██████████| 5/5 [00:02<00:00,  1.74batch/s, loss=1.21, loss_class=0.773, loss_reg=0.435]\n"
     ]
    },
    {
     "name": "stdout",
     "output_type": "stream",
     "text": [
      "regression loss=0.40457486112912494, classification loss=0.4080248574415843, Loss(total)=0.8125997185707092\n",
      "model saved!\n"
     ]
    },
    {
     "name": "stderr",
     "output_type": "stream",
     "text": [
      "Epoch=9: 100%|██████████| 5/5 [00:02<00:00,  1.88batch/s, loss=1.19, loss_class=0.767, loss_reg=0.428]\n"
     ]
    },
    {
     "name": "stdout",
     "output_type": "stream",
     "text": [
      "regression loss=0.39729657769203186, classification loss=0.4213174680868785, Loss(total)=0.8186140457789104\n"
     ]
    },
    {
     "name": "stderr",
     "output_type": "stream",
     "text": [
      "Epoch=10: 100%|██████████| 5/5 [00:02<00:00,  1.88batch/s, loss=1.18, loss_class=0.762, loss_reg=0.422]\n"
     ]
    },
    {
     "name": "stdout",
     "output_type": "stream",
     "text": [
      "regression loss=0.3905024329821269, classification loss=0.38428569833437604, Loss(total)=0.7747881313165029\n",
      "model saved!\n"
     ]
    },
    {
     "name": "stderr",
     "output_type": "stream",
     "text": [
      "Epoch=11: 100%|██████████| 5/5 [00:02<00:00,  1.88batch/s, loss=1.17, loss_class=0.755, loss_reg=0.416]\n"
     ]
    },
    {
     "name": "stdout",
     "output_type": "stream",
     "text": [
      "regression loss=0.3842628002166748, classification loss=0.37185203035672504, Loss(total)=0.7561148305733998\n",
      "model saved!\n"
     ]
    },
    {
     "name": "stderr",
     "output_type": "stream",
     "text": [
      "Epoch=12: 100%|██████████| 5/5 [00:02<00:00,  1.70batch/s, loss=1.16, loss_class=0.749, loss_reg=0.41] \n"
     ]
    },
    {
     "name": "stdout",
     "output_type": "stream",
     "text": [
      "regression loss=0.3786064386367798, classification loss=0.3416566848754883, Loss(total)=0.7202631235122681\n",
      "model saved!\n"
     ]
    },
    {
     "name": "stderr",
     "output_type": "stream",
     "text": [
      "Epoch=13: 100%|██████████| 5/5 [00:02<00:00,  1.70batch/s, loss=1.15, loss_class=0.743, loss_reg=0.406]\n"
     ]
    },
    {
     "name": "stdout",
     "output_type": "stream",
     "text": [
      "regression loss=0.3735324839750926, classification loss=0.3350566327571869, Loss(total)=0.7085891167322795\n",
      "model saved!\n"
     ]
    },
    {
     "name": "stderr",
     "output_type": "stream",
     "text": [
      "Epoch=14: 100%|██████████| 5/5 [00:02<00:00,  1.73batch/s, loss=1.14, loss_class=0.738, loss_reg=0.402]\n"
     ]
    },
    {
     "name": "stdout",
     "output_type": "stream",
     "text": [
      "regression loss=0.36901334921518963, classification loss=0.31537258128325146, Loss(total)=0.6843859304984411\n",
      "model saved!\n"
     ]
    },
    {
     "name": "stderr",
     "output_type": "stream",
     "text": [
      "Epoch=15: 100%|██████████| 5/5 [00:03<00:00,  1.65batch/s, loss=1.13, loss_class=0.732, loss_reg=0.398]\n"
     ]
    },
    {
     "name": "stdout",
     "output_type": "stream",
     "text": [
      "regression loss=0.36501140395800274, classification loss=0.3479509751001994, Loss(total)=0.7129623790582021\n"
     ]
    },
    {
     "name": "stderr",
     "output_type": "stream",
     "text": [
      "Epoch=16: 100%|██████████| 5/5 [00:02<00:00,  1.72batch/s, loss=1.12, loss_class=0.725, loss_reg=0.395]\n"
     ]
    },
    {
     "name": "stdout",
     "output_type": "stream",
     "text": [
      "regression loss=0.3614864746729533, classification loss=0.3823867936929067, Loss(total)=0.74387326836586\n"
     ]
    },
    {
     "name": "stderr",
     "output_type": "stream",
     "text": [
      "Epoch=17: 100%|██████████| 5/5 [00:02<00:00,  1.70batch/s, loss=1.11, loss_class=0.718, loss_reg=0.392]\n"
     ]
    },
    {
     "name": "stdout",
     "output_type": "stream",
     "text": [
      "regression loss=0.35839684804280597, classification loss=0.2941667288541794, Loss(total)=0.6525635768969853\n",
      "model saved!\n"
     ]
    },
    {
     "name": "stderr",
     "output_type": "stream",
     "text": [
      "Epoch=18: 100%|██████████| 5/5 [00:02<00:00,  1.74batch/s, loss=1.11, loss_class=0.721, loss_reg=0.39] \n"
     ]
    },
    {
     "name": "stdout",
     "output_type": "stream",
     "text": [
      "regression loss=0.355705589056015, classification loss=0.39732396602630615, Loss(total)=0.7530295550823212\n"
     ]
    },
    {
     "name": "stderr",
     "output_type": "stream",
     "text": [
      "Epoch=19: 100%|██████████| 5/5 [00:02<00:00,  1.75batch/s, loss=1.1, loss_class=0.717, loss_reg=0.387] \n"
     ]
    },
    {
     "name": "stdout",
     "output_type": "stream",
     "text": [
      "regression loss=0.35337574283281964, classification loss=0.31706895927588147, Loss(total)=0.6704447021087011\n"
     ]
    },
    {
     "name": "stderr",
     "output_type": "stream",
     "text": [
      "Epoch=20: 100%|██████████| 5/5 [00:02<00:00,  1.78batch/s, loss=1.09, loss_class=0.705, loss_reg=0.383]\n"
     ]
    },
    {
     "name": "stdout",
     "output_type": "stream",
     "text": [
      "regression loss=0.35136247674624127, classification loss=0.34545738498369855, Loss(total)=0.6968198617299398\n"
     ]
    },
    {
     "name": "stderr",
     "output_type": "stream",
     "text": [
      "Epoch=21: 100%|██████████| 5/5 [00:02<00:00,  1.78batch/s, loss=1.08, loss_class=0.7, loss_reg=0.381]  \n"
     ]
    },
    {
     "name": "stdout",
     "output_type": "stream",
     "text": [
      "regression loss=0.34962578614552814, classification loss=0.2513973241051038, Loss(total)=0.6010231102506319\n",
      "model saved!\n"
     ]
    },
    {
     "name": "stderr",
     "output_type": "stream",
     "text": [
      "Epoch=22: 100%|██████████| 5/5 [00:02<00:00,  1.82batch/s, loss=1.08, loss_class=0.697, loss_reg=0.38] \n"
     ]
    },
    {
     "name": "stdout",
     "output_type": "stream",
     "text": [
      "regression loss=0.34813756744066876, classification loss=0.4466634889443715, Loss(total)=0.7948010563850403\n"
     ]
    },
    {
     "name": "stderr",
     "output_type": "stream",
     "text": [
      "Epoch=23: 100%|██████████| 5/5 [00:02<00:00,  1.78batch/s, loss=1.07, loss_class=0.69, loss_reg=0.38]  \n"
     ]
    },
    {
     "name": "stdout",
     "output_type": "stream",
     "text": [
      "regression loss=0.3468688229719798, classification loss=0.39438875516255695, Loss(total)=0.7412575781345367\n"
     ]
    },
    {
     "name": "stderr",
     "output_type": "stream",
     "text": [
      "Epoch=24: 100%|██████████| 5/5 [00:03<00:00,  1.53batch/s, loss=1.07, loss_class=0.688, loss_reg=0.379]\n"
     ]
    },
    {
     "name": "stdout",
     "output_type": "stream",
     "text": [
      "regression loss=0.34579163789749146, classification loss=0.41188634435335797, Loss(total)=0.7576779822508495\n"
     ]
    },
    {
     "name": "stderr",
     "output_type": "stream",
     "text": [
      "Epoch=25: 100%|██████████| 5/5 [00:03<00:00,  1.59batch/s, loss=1.06, loss_class=0.683, loss_reg=0.379]\n"
     ]
    },
    {
     "name": "stdout",
     "output_type": "stream",
     "text": [
      "regression loss=0.3448801139990489, classification loss=0.396118700504303, Loss(total)=0.7409988145033519\n"
     ]
    },
    {
     "name": "stderr",
     "output_type": "stream",
     "text": [
      "Epoch=26: 100%|██████████| 5/5 [00:03<00:00,  1.45batch/s, loss=1.06, loss_class=0.68, loss_reg=0.378] \n"
     ]
    },
    {
     "name": "stdout",
     "output_type": "stream",
     "text": [
      "regression loss=0.3441106379032135, classification loss=0.34646135568618774, Loss(total)=0.6905719935894012\n"
     ]
    },
    {
     "name": "stderr",
     "output_type": "stream",
     "text": [
      "Epoch=27: 100%|██████████| 5/5 [00:02<00:00,  1.72batch/s, loss=1.06, loss_class=0.678, loss_reg=0.378]\n"
     ]
    },
    {
     "name": "stdout",
     "output_type": "stream",
     "text": [
      "regression loss=0.343462606271108, classification loss=0.33233743409315747, Loss(total)=0.6758000403642654\n"
     ]
    },
    {
     "name": "stderr",
     "output_type": "stream",
     "text": [
      "Epoch=28: 100%|██████████| 5/5 [00:03<00:00,  1.49batch/s, loss=1.05, loss_class=0.675, loss_reg=0.378]\n"
     ]
    },
    {
     "name": "stdout",
     "output_type": "stream",
     "text": [
      "regression loss=0.3429181973139445, classification loss=0.31338079770406085, Loss(total)=0.6562989950180054\n"
     ]
    },
    {
     "name": "stderr",
     "output_type": "stream",
     "text": [
      "Epoch=29: 100%|██████████| 5/5 [00:03<00:00,  1.65batch/s, loss=1.05, loss_class=0.674, loss_reg=0.378]\n"
     ]
    },
    {
     "name": "stdout",
     "output_type": "stream",
     "text": [
      "regression loss=0.34246217211087543, classification loss=0.3396588017543157, Loss(total)=0.6821209738651911\n"
     ]
    },
    {
     "name": "stderr",
     "output_type": "stream",
     "text": [
      "Epoch=30: 100%|██████████| 5/5 [00:03<00:00,  1.65batch/s, loss=1.05, loss_class=0.674, loss_reg=0.378]\n"
     ]
    },
    {
     "name": "stdout",
     "output_type": "stream",
     "text": [
      "regression loss=0.3420814275741577, classification loss=0.3460244635740916, Loss(total)=0.6881058911482494\n"
     ]
    },
    {
     "name": "stderr",
     "output_type": "stream",
     "text": [
      "Epoch=31: 100%|██████████| 5/5 [00:03<00:00,  1.34batch/s, loss=1.05, loss_class=0.674, loss_reg=0.378]\n"
     ]
    },
    {
     "name": "stdout",
     "output_type": "stream",
     "text": [
      "regression loss=0.34176477789878845, classification loss=0.3945295413335164, Loss(total)=0.7362943192323048\n"
     ]
    },
    {
     "name": "stderr",
     "output_type": "stream",
     "text": [
      "Epoch=32: 100%|██████████| 5/5 [00:03<00:00,  1.49batch/s, loss=1.05, loss_class=0.673, loss_reg=0.378]\n"
     ]
    },
    {
     "name": "stdout",
     "output_type": "stream",
     "text": [
      "regression loss=0.3415026068687439, classification loss=0.5342010160287222, Loss(total)=0.8757036228974661\n"
     ]
    },
    {
     "name": "stderr",
     "output_type": "stream",
     "text": [
      "Epoch=33: 100%|██████████| 5/5 [00:02<00:00,  1.71batch/s, loss=1.05, loss_class=0.668, loss_reg=0.377]\n"
     ]
    },
    {
     "name": "stdout",
     "output_type": "stream",
     "text": [
      "regression loss=0.34128673871358234, classification loss=0.3719743837912877, Loss(total)=0.7132611225048701\n"
     ]
    },
    {
     "name": "stderr",
     "output_type": "stream",
     "text": [
      "Epoch=34: 100%|██████████| 5/5 [00:02<00:00,  1.70batch/s, loss=1.05, loss_class=0.671, loss_reg=0.377]\n"
     ]
    },
    {
     "name": "stdout",
     "output_type": "stream",
     "text": [
      "regression loss=0.3411101500193278, classification loss=0.37482770284016925, Loss(total)=0.7159378528594971\n"
     ]
    },
    {
     "name": "stderr",
     "output_type": "stream",
     "text": [
      "Epoch=35: 100%|██████████| 5/5 [00:03<00:00,  1.64batch/s, loss=1.05, loss_class=0.676, loss_reg=0.377]\n"
     ]
    },
    {
     "name": "stdout",
     "output_type": "stream",
     "text": [
      "regression loss=0.3409668306509654, classification loss=0.3486992468436559, Loss(total)=0.6896660774946213\n"
     ]
    },
    {
     "name": "stderr",
     "output_type": "stream",
     "text": [
      "Epoch=36: 100%|██████████| 5/5 [00:02<00:00,  1.75batch/s, loss=1.05, loss_class=0.672, loss_reg=0.377]\n"
     ]
    },
    {
     "name": "stdout",
     "output_type": "stream",
     "text": [
      "regression loss=0.3408515353997548, classification loss=0.314343382914861, Loss(total)=0.6551949183146158\n"
     ]
    },
    {
     "name": "stderr",
     "output_type": "stream",
     "text": [
      "Epoch=37: 100%|██████████| 5/5 [00:03<00:00,  1.65batch/s, loss=1.05, loss_class=0.668, loss_reg=0.377]\n"
     ]
    },
    {
     "name": "stdout",
     "output_type": "stream",
     "text": [
      "regression loss=0.3407597839832306, classification loss=0.30777280032634735, Loss(total)=0.6485325843095779\n"
     ]
    },
    {
     "name": "stderr",
     "output_type": "stream",
     "text": [
      "Epoch=38: 100%|██████████| 5/5 [00:02<00:00,  1.75batch/s, loss=1.05, loss_class=0.669, loss_reg=0.377]\n"
     ]
    },
    {
     "name": "stdout",
     "output_type": "stream",
     "text": [
      "regression loss=0.34068763256073, classification loss=0.503760834534963, Loss(total)=0.844448467095693\n"
     ]
    },
    {
     "name": "stderr",
     "output_type": "stream",
     "text": [
      "Epoch=39: 100%|██████████| 5/5 [00:02<00:00,  1.71batch/s, loss=1.04, loss_class=0.664, loss_reg=0.377] \n"
     ]
    },
    {
     "name": "stdout",
     "output_type": "stream",
     "text": [
      "regression loss=0.34063172340393066, classification loss=0.32633231083552044, Loss(total)=0.6669640342394512\n"
     ]
    },
    {
     "name": "stderr",
     "output_type": "stream",
     "text": [
      "Epoch=40: 100%|██████████| 5/5 [00:03<00:00,  1.64batch/s, loss=1.04, loss_class=0.662, loss_reg=0.377] \n"
     ]
    },
    {
     "name": "stdout",
     "output_type": "stream",
     "text": [
      "regression loss=0.34058908621470135, classification loss=0.370730996131897, Loss(total)=0.7113200823465984\n"
     ]
    },
    {
     "name": "stderr",
     "output_type": "stream",
     "text": [
      "Epoch=41: 100%|██████████| 5/5 [00:02<00:00,  1.72batch/s, loss=1.04, loss_class=0.658, loss_reg=0.377] \n"
     ]
    },
    {
     "name": "stdout",
     "output_type": "stream",
     "text": [
      "regression loss=0.34055723746617633, classification loss=0.38561401267846424, Loss(total)=0.7261712501446406\n"
     ]
    },
    {
     "name": "stderr",
     "output_type": "stream",
     "text": [
      "Epoch=42: 100%|██████████| 5/5 [00:02<00:00,  1.71batch/s, loss=1.04, loss_class=0.662, loss_reg=0.377]\n"
     ]
    },
    {
     "name": "stdout",
     "output_type": "stream",
     "text": [
      "regression loss=0.3405339519182841, classification loss=0.5711733301480612, Loss(total)=0.9117072820663452\n"
     ]
    },
    {
     "name": "stderr",
     "output_type": "stream",
     "text": [
      "Epoch=43: 100%|██████████| 5/5 [00:02<00:00,  1.82batch/s, loss=1.03, loss_class=0.655, loss_reg=0.377]\n"
     ]
    },
    {
     "name": "stdout",
     "output_type": "stream",
     "text": [
      "regression loss=0.34051740169525146, classification loss=0.3716665307680766, Loss(total)=0.7121839324633281\n"
     ]
    },
    {
     "name": "stderr",
     "output_type": "stream",
     "text": [
      "Epoch=44: 100%|██████████| 5/5 [00:02<00:00,  1.74batch/s, loss=1.03, loss_class=0.655, loss_reg=0.377] \n"
     ]
    },
    {
     "name": "stdout",
     "output_type": "stream",
     "text": [
      "regression loss=0.34050607681274414, classification loss=0.4209910233815511, Loss(total)=0.7614971001942952\n"
     ]
    },
    {
     "name": "stderr",
     "output_type": "stream",
     "text": [
      "Epoch=45: 100%|██████████| 5/5 [00:02<00:00,  1.85batch/s, loss=1.03, loss_class=0.651, loss_reg=0.377]\n"
     ]
    },
    {
     "name": "stdout",
     "output_type": "stream",
     "text": [
      "regression loss=0.3404986461003621, classification loss=0.35780205329259235, Loss(total)=0.6983006993929545\n"
     ]
    },
    {
     "name": "stderr",
     "output_type": "stream",
     "text": [
      "Epoch=46: 100%|██████████| 5/5 [00:03<00:00,  1.57batch/s, loss=1.03, loss_class=0.652, loss_reg=0.377] \n"
     ]
    },
    {
     "name": "stdout",
     "output_type": "stream",
     "text": [
      "regression loss=0.3404941260814667, classification loss=0.45337405800819397, Loss(total)=0.7938681840896606\n"
     ]
    },
    {
     "name": "stderr",
     "output_type": "stream",
     "text": [
      "Epoch=47: 100%|██████████| 5/5 [00:03<00:00,  1.54batch/s, loss=1.03, loss_class=0.648, loss_reg=0.377] \n"
     ]
    },
    {
     "name": "stdout",
     "output_type": "stream",
     "text": [
      "regression loss=0.3404916028181712, classification loss=0.2967266688744227, Loss(total)=0.6372182716925939\n"
     ]
    },
    {
     "name": "stderr",
     "output_type": "stream",
     "text": [
      "Epoch=48: 100%|██████████| 5/5 [00:03<00:00,  1.58batch/s, loss=1.03, loss_class=0.65, loss_reg=0.377]  \n"
     ]
    },
    {
     "name": "stdout",
     "output_type": "stream",
     "text": [
      "regression loss=0.34049047032992047, classification loss=0.454103281100591, Loss(total)=0.7945937514305115\n"
     ]
    },
    {
     "name": "stderr",
     "output_type": "stream",
     "text": [
      "Epoch=49: 100%|██████████| 5/5 [00:02<00:00,  1.75batch/s, loss=1.03, loss_class=0.652, loss_reg=0.377]"
     ]
    },
    {
     "name": "stdout",
     "output_type": "stream",
     "text": [
      "regression loss=0.340490182240804, classification loss=0.3327418963114421, Loss(total)=0.6732320785522461\n"
     ]
    },
    {
     "name": "stderr",
     "output_type": "stream",
     "text": [
      "\n"
     ]
    }
   ],
   "source": [
    "N=50\n",
    "\n",
    "loss_train_hist_reg,loss_valid_hist_reg=[],[]\n",
    "loss_train_hist_class,loss_valid_hist_class=[],[]\n",
    "\n",
    "best_loss = tc.inf\n",
    "best_model = [0]\n",
    "\n",
    "for epoch in range(N):\n",
    "\n",
    "  model, train_loss_reg, train_loss_class = train_one_epoch(model, cnn_train_loader, loss_func_reg, loss_func_class, optimizer, epoch)\n",
    "  valid_loss_reg, valid_loss_class = validation(model, cnn_valid_loader, loss_func_reg, loss_func_class)\n",
    "\n",
    "  loss_train_hist_reg.append(train_loss_reg)\n",
    "  loss_train_hist_class.append(train_loss_class)\n",
    "\n",
    "  loss_valid_hist_reg.append(valid_loss_reg)\n",
    "  loss_valid_hist_class.append(valid_loss_class)\n",
    "\n",
    "  valid_loss_total = (valid_loss_reg + valid_loss_class)\n",
    "\n",
    "  if valid_loss_total<best_loss:\n",
    "    best_model[0] = model \n",
    "    best_loss = valid_loss_total\n",
    "    print('model saved!')"
   ]
  },
  {
   "cell_type": "code",
   "execution_count": 347,
   "metadata": {},
   "outputs": [
    {
     "data": {
      "image/png": "[encoded data removed]",
      "text/plain": [
       "<Figure size 432x288 with 1 Axes>"
      ]
     },
     "metadata": {
      "needs_background": "light"
     },
     "output_type": "display_data"
    }
   ],
   "source": [
    "plt.plot(range(N), loss_train_hist_reg, label = 'train loss regression')\n",
    "plt.plot(range(N), loss_train_hist_class, label = 'train loss classification')\n",
    "plt.xlabel('Epoch')\n",
    "plt.ylabel('Loss')\n",
    "plt.legend()\n",
    "#plt.xticks(np.arange(1, N))\n",
    "plt.grid()\n",
    "plt.show()"
   ]
  },
  {
   "cell_type": "code",
   "execution_count": 348,
   "metadata": {},
   "outputs": [
    {
     "data": {
      "image/png": "[encoded data removed]",
      "text/plain": [
       "<Figure size 432x288 with 1 Axes>"
      ]
     },
     "metadata": {
      "needs_background": "light"
     },
     "output_type": "display_data"
    }
   ],
   "source": [
    "plt.plot(range(N), loss_valid_hist_reg, label = 'valid loss regression')\n",
    "plt.plot(range(N), loss_valid_hist_class, label = 'valid loss classification')\n",
    "plt.xlabel('Epoch')\n",
    "plt.ylabel('Loss')\n",
    "plt.legend()\n",
    "#plt.xticks(np.arange(1, N))\n",
    "plt.grid()\n",
    "plt.show()"
   ]
  },
  {
   "cell_type": "code",
   "execution_count": 336,
   "metadata": {},
   "outputs": [],
   "source": [
    "# I should be better that use distinct models"
   ]
  },
  {
   "cell_type": "code",
   "execution_count": null,
   "metadata": {},
   "outputs": [],
   "source": []
  }
 ],
 "metadata": {
  "kernelspec": {
   "display_name": "base",
   "language": "python",
   "name": "python3"
  },
  "language_info": {
   "codemirror_mode": {
    "name": "ipython",
    "version": 3
   },
   "file_extension": ".py",
   "mimetype": "text/x-python",
   "name": "python",
   "nbconvert_exporter": "python",
   "pygments_lexer": "ipython3",
   "version": "3.9.12"
  },
  "orig_nbformat": 4,
  "vscode": {
   "interpreter": {
    "hash": "d478f2b155118de22769e18c606f2fc6fbef083591a0239b8d3da966eb9f00a4"
   }
  }
 },
 "nbformat": 4,
 "nbformat_minor": 2
}
